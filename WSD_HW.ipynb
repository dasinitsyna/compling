{
 "cells": [
  {
   "cell_type": "code",
   "execution_count": 600,
   "metadata": {},
   "outputs": [],
   "source": [
    "import random\n",
    "import re\n",
    "from nltk.tokenize import word_tokenize\n",
    "from nltk.corpus import stopwords\n",
    "from nltk.corpus import wordnet as wn\n",
    "from nltk.wsd import lesk\n",
    "from string import punctuation\n",
    "import json, os\n",
    "from collections import Counter\n",
    "import numpy as np\n",
    "import warnings\n",
    "import nltk\n",
    "from nltk.stem import WordNetLemmatizer"
   ]
  },
  {
   "cell_type": "code",
   "execution_count": 601,
   "metadata": {},
   "outputs": [],
   "source": [
    "warnings.filterwarnings('ignore')\n",
    "\n",
    "punct = punctuation+\"«»—…“”*№–'\"\n",
    "stops = set(stopwords.words('english'))\n",
    "\n",
    "def digits(string): \n",
    "    return any(char.isdigit() for char in string)\n",
    "\n",
    "wordnet_lemmatizer = WordNetLemmatizer()\n",
    "\n",
    "breaks = ['breaks', 'broken', 'breaking', 'broke']"
   ]
  },
  {
   "cell_type": "markdown",
   "metadata": {},
   "source": [
    "При выполнении даного задания *было пролито много крови и слез* и было испробовано несколько способов улучшения работы Леска:\n",
    "1. использование defenition+examples\n",
    "2. нормалзиация текста (спойлер - nltk ужасно лемматизирует, но узнала я об этом уже слишком поздно. Он автоматически лемматизирует все под существительные, если бы я заинтересовалась его работой раньше, то написала бы еще функцию, которая пос-теггила, а потом уже лемматизировала в зависимости от пос-тега, но было уже поздно... в общем, я вставила небольшой костыль для брейка - сделала строчку, где все варианты брейка переделываются в брейк в norm_token)\n",
    "3. увеличение окна words_in_context, потому что 3 слова может быть маловато\n",
    "\n",
    "Я не сразу прочитала, что нужно было оставлять все попытки, простите, пожалуйста! Поэтому здесь одна большая попытка."
   ]
  },
  {
   "cell_type": "markdown",
   "metadata": {},
   "source": [
    "У нас есть три функции:\n",
    "\n",
    "1. **norm_token** - лемматизирует (не очень), токенизирует и убирает стопслова\n",
    "2. **get_words_in_context** увеличили окно для контекстов слов\n",
    "3. **lesk** - главный герой программы, где у нас не только определения, но и примеры для слова"
   ]
  },
  {
   "cell_type": "code",
   "execution_count": 602,
   "metadata": {},
   "outputs": [],
   "source": [
    "def norm_token(text):\n",
    "    \n",
    "    words = [word.strip(punct) for word in text.lower().split() if word]\n",
    "    words = [word for word in words if word and word not in stops]\n",
    "    words = [word for word in words if word and not digits(word)]\n",
    "    words = [wordnet_lemmatizer.lemmatize(word) for word in words if word]\n",
    "    words = ['break' if word in breaks else word for word in words if word]\n",
    "    \n",
    "    return words\n",
    "\n",
    "def get_words_in_context(words, window=7):\n",
    "    words2context = []\n",
    "    for i in range(len(words)):\n",
    "        left = words[max(0,i-window):i] \n",
    "        right = words[i+1:i+window+1]\n",
    "        target = words[i]\n",
    "        words2context.append((target, left+right)) \n",
    "    return words2context\n",
    "\n",
    "def lesk(word, sentence):\n",
    "    bestsense = 0\n",
    "    maxoverlap = 0\n",
    "    \n",
    "    for i, synset in enumerate(wn.synsets(word)):\n",
    "        definition = norm_token(synset.definition())\n",
    "        examples = norm_token(' '.join(synset.examples()))\n",
    "        def_ex = set(definition + examples)\n",
    "        sentence = set(sentence)\n",
    "        overlap = len(def_ex & sentence)\n",
    "        if overlap > maxoverlap:\n",
    "            maxoverlap = overlap\n",
    "            bestsense = i\n",
    "            \n",
    "    return bestsense"
   ]
  },
  {
   "cell_type": "markdown",
   "metadata": {},
   "source": [
    "Функция дизамбигуации"
   ]
  },
  {
   "cell_type": "code",
   "execution_count": 603,
   "metadata": {},
   "outputs": [],
   "source": [
    "def disambiguation(corpus):\n",
    "    dis_corpus = []\n",
    "\n",
    "    for text in corpus:\n",
    "        dis_text = []\n",
    "        words_in_context = get_words_in_context(text)\n",
    "\n",
    "        for word, context in words_in_context:\n",
    "            nsense = lesk(word, context)\n",
    "\n",
    "            # если смысл не нулевой - добавим индекс смысла к токену\n",
    "            if nsense > 0:\n",
    "                dis_text.append(word + '_' + str(nsense))\n",
    "            else:\n",
    "                dis_text.append(word)\n",
    "\n",
    "        dis_corpus.append(dis_text)\n",
    "    return(dis_corpus)"
   ]
  },
  {
   "cell_type": "markdown",
   "metadata": {},
   "source": [
    "Достаем предложения с break. Всего у нас 1198 строки, но это пришлось извернуться и достать все возможные брейки, потому что nltk очень неудачно отлемматизировался."
   ]
  },
  {
   "cell_type": "code",
   "execution_count": 604,
   "metadata": {},
   "outputs": [],
   "source": [
    "corpus = [line for line in open('corpus_eng.txt', 'r', encoding = 'utf-8')]\n",
    "\n",
    "corpus_norm = [norm_token(line) for line in corpus]"
   ]
  },
  {
   "cell_type": "raw",
   "metadata": {},
   "source": [
    "Первая попытка вычленить все брейки - отвратительная и неудачная, убрала ее.\n",
    "\n",
    "all_contexts_break = re.findall('[\\.!?][^.?!]+\\sbreak\\s[^.?!]+[\\w+\\.\\s]', corpus)\n",
    "all_contexts_broken = re.findall('[\\.!?][^.?!]+\\sbroken\\s[^.?!]+[\\w+\\.\\s]', corpus)\n",
    "all_contexts_breaking = re.findall('[\\.!?][^.?!]+\\sbreaking\\s[^.?!]+[\\w+\\.\\s]', corpus)\n",
    "all_contexts_breaks = re.findall('[\\.!?][^.?!]+\\sbreaks\\s[^.?!]+[\\w+\\.\\s]', corpus)\n",
    "\n",
    "all_contexts = list(set(all_contexts_breaks+all_contexts_break+all_contexts_broken+all_contexts_breaking))\n",
    "\n",
    "print(len(all_contexts))"
   ]
  },
  {
   "cell_type": "code",
   "execution_count": 605,
   "metadata": {},
   "outputs": [
    {
     "name": "stdout",
     "output_type": "stream",
     "text": [
      "1198\n"
     ]
    }
   ],
   "source": [
    "all_contexts = []\n",
    "\n",
    "for line in corpus_norm:\n",
    "    if 'break' in line:\n",
    "        all_contexts.append(line)\n",
    "\n",
    "print(len(all_contexts))"
   ]
  },
  {
   "cell_type": "code",
   "execution_count": 606,
   "metadata": {},
   "outputs": [
    {
     "data": {
      "text/plain": [
       "10"
      ]
     },
     "execution_count": 606,
     "metadata": {},
     "output_type": "execute_result"
    }
   ],
   "source": [
    "contexts = []\n",
    "contexts = random.sample(all_contexts, 10)\n",
    "\n",
    "len(contexts)"
   ]
  },
  {
   "cell_type": "code",
   "execution_count": 607,
   "metadata": {},
   "outputs": [
    {
     "name": "stdout",
     "output_type": "stream",
     "text": [
      "[['communist', \"party's\", 'mouthpiece', \"people's\", 'daily', 'warned', 'editorial', 'thursday', 'china', 'must', 'break', 'monopoly', 'core', 'technology', 'standard', 'remain', 'untethered', 'country', 'technology', 'supply', 'chain'], ['world', 'number', 'break', 'karlovic', 'oldest', 'player', 'feature', 'davis', 'cup', 'single', 'match', 'since', 'australian', 'norman', 'brooke', 'four', 'time', 'help', 'argentina', 'banish', 'memory', 'losing', 'final', 'appearance'], ['bridgeport', 'man', 'sentenced', 'southern', 'ct', 'armed', 'robbery', 'spree', 'updated', 'pm', 'tuesday', 'november', 'hartford', 'conn', 'ap', 'bridgeport', 'man', 'sentenced', 'decade', 'federal', 'prison', 'participating', 'armed', 'robbery', 'spree', 'southern', 'connecticut', 'u.s', 'attorney', 'deirdre', 'daly', 'say', 'derrick', 'gilliam', 'sentenced', 'tuesday', 'bridgeport', 'year', 'one', 'month', 'prison', 'conspiracy', 'affect', 'commerce', 'robbery', 'followed', 'supervised', 'release', 'prosecutor', 'say', 'gilliam', 'others', 'committed', 'seven', 'robbery', 'april', 'july', 'fairfield', 'bridgeport', 'shelton', 'stratford', 'westport', 'say', 'gilliam', 'pointed', 'appeared', 'handgun', 'employee', 'pharmacy', 'gas', 'station', 'restaurant', 'hotel', 'credit', 'union', 'two', 'bank', \"gilliam's\", 'attorney', 'say', 'client', 'accepts', 'responsibility', 'feel', 'sentence', 'excessive', 'considering', 'appeal', 'ordered', 'pay', 'restitution', 'two', 'defendant', 'await', 'sentencing', 'latest', 'sfgate', 'homepage', 'click', 'top', 'news', 'around', 'bay', 'area', 'beyond', 'sign', 'newsletter', 'first', 'learn', 'break', 'news', 'go', 'sign', 'manage', 'profile', 'top', 'page', 'break', 'news'], ['credit', 'suisse’s', 'swiss', 'unit', 'kick', 'operation', 'ahead', 'ipo', 'jeffrey', 'vögeli', 'nov', 'et', 'bloomberg', 'credit', 'suisse', 'group', 'ag’s', 'swiss', 'unit', 'began', 'life', 'legally', 'independent', 'company', 'enabling', 'bank', 'pursue', 'plan', 'sell', 'part', 'business', 'public', 'offering', 'next', 'year', 'carving', 'separate', 'entity', 'credit', 'suisse', 'also', 'fulfills', 'regulatory', 'requirement', 'make', 'bank', 'easier', 'break', 'crisis', 'bank', 'said', 'statement', 'monday', 'credit', 'suisse', 'schweiz', 'ag', 'license', 'allowing', 'local', 'business', 'keep', 'functioning', 'parent', 'file', 'bankruptcy', 'swiss', 'rival', 'ubs', 'group', 'ag', 'also', 'created', 'domestic', 'subsidiary', 'recent', 'year', 'switzerland', 'cornerstone', 'chief', 'executive', 'officer', 'tidjane', 'thiam’s', 'plan', 'raising', 'capital', 'reshapes', 'company', 'focus', 'wealth', 'management', 'bank', 'looking', 'raise', 'billion', 'franc', 'billion', 'billion', 'franc', 'sale', 'percent', 'percent', 'swiss', 'business', 'public', 'offering', 'slated', 'late', 'next', 'year', 'launch', 'important', 'milestone', 'implementation', 'group', 'strategy', 'thiam', 'said', 'statement', 'clearly', 'demonstrate', 'value', 'swiss', 'business', 'create', 'positive', 'momentum', 'interest', 'client', 'bank', 'took', 'full-page', 'ad', 'several', 'swiss', 'newspaper', 'monday', 'saying', 'move', 'would', 'allow', 'credit', 'suisse', 'focus', 'home', 'market', 'local', 'medium', 'speculated', 'bank', 'might', 'eventually', 'sell', 'entire', 'swiss', 'business', 'swiss', 'unit', 'so-called', 'universal', 'bank', 'offer', 'private', 'banking', 'asset', 'management', 'well', 'retail', 'corporate', 'service', 'contributed', 'percent', 'group', 'revenue', 'first', 'nine', 'month', 'year', 'highest', 'pretax', 'profit', 'bank’s', 'unit', 'also', 'employ', 'biggest', 'chunk', 'employee', 'end', 'september', 'recent', 'month', 'executive', 'number', 'swiss', 'bank', 'questioned', 'credit', 'suisse’s', 'ability', 'reach', 'profitability', 'target', 'swiss', 'business', 'zurich-based', 'bank', 'aiming', 'pretax', 'profit', 'billion', 'franc', 'unit', 'billion', 'franc', 'credit', 'suisse’s', 'share', 'little', 'changed', 'monday', 'dropping', 'percent', 'year', 'amid', 'selloff', 'european', 'bank', 'investor', 'question', 'business', 'model', 'pressure', 'regulatory', 'cost', 'record-low', 'interest', 'rate', 'market', 'uncertainty', 'swiss', 'bank', 'also', 'contend', 'negative', 'rate', 'central', 'bank', 'deposit', 'erosion', 'country’s', 'tradition', 'bank', 'secrecy', 'earlier', 'month', 'head', 'swiss', 'operation', 'thomas', 'gottstein', 'reshuffled', 'management', 'division', 'putting', 'didier', 'denat', 'charge', 'corporate', 'investment', 'banking', 'serge', 'fehr', 'head', 'operation', 'private', 'wealth', 'management', 'client', 'felix', 'baumgartner', 'oversee', 'premium', 'client', 'add', 'comment', 'fourth', 'paragraph', 'assistance', 'alice', 'baghdjian', 'contact', 'reporter', 'story', 'jeffrey', 'vögeli', 'zurich', 'jvogeli@bloomberg.net', 'contact', 'editor', 'responsible', 'story', 'simone', 'meier', 'smeier@bloomberg.net', 'jeffrey', 'voegeli', 'bloomberg', 'l.p'], ['break', 'stereotype', 'point', 'counterexample', 'already', 'known', 'person', 'trying', 'convince', 'hardworking', 'black', 'colleague', 'sweetheart', 'muslim', 'neighbor', 'etc', 'dramatic', 'gain', 'glbt', 'people', 'made', 'appeal', 'right', 'discovery', 'respected', 'relative', 'friend', 'neighbor', 'co-worker', 'glbt'], ['news', 'come', 'relief', 'chelsea', 'fan', 'courtois', 'kept', 'five', 'clean', 'sheet', 'row', 'prior', 'international', 'break', 'help', 'antonio', \"conte's\", 'side', 'climb', 'second', 'place', 'premier', 'league'], ['diamond', 'earring', 'star', \"christie's\", 'jewel', 'auction', 'geneva', 'updated', 'tuesday', 'november', 'geneva', 'ap', \"christie's\", 'kicking', 'geneva', 'fall', 'season', 'big-ticket', 'jewelry', 'auction', 'headlining', 'pair', 'pear-shaped', 'diamond', 'earring', 'estimated', 'fetch', 'million', 'million', 'swiss', 'franc', 'million', 'million', 'miroir', 'de', \"l'amour\", 'earring', 'feature', 'largest', 'flawless', 'highest-quality', 'pear-shaped', 'diamond', 'world', 'carat', 'earring', 'offered', 'tuesday', 'night', 'without', 'reserve', 'price', 'mean', 'sell', 'even', 'fall', 'estimate', 'range', 'managing', 'director', 'tobias', 'kormind', 'jeweler', 'diamond', 'predicted', 'buyer', 'would', 'newly', 'minted', 'russian', 'chinese', 'billionaire', 'oligarch', 'business', 'tycoon', 'shy', 'flaunting', 'wealth', 'also', 'hammer', 'pear-shaped', 'pink', 'diamond', 'ring', 'expected', 'fetch', 'million', 'latest', 'sfgate', 'homepage', 'click', 'top', 'news', 'around', 'bay', 'area', 'beyond', 'sign', 'newsletter', 'first', 'learn', 'break', 'news', 'go', 'sign', 'manage', 'profile', 'top', 'page', 'hundred', 'march', 'sf'], ['peg', 'slip', 'sinker', 'prevent', 'sliding', 'line', 'jam', 'one', 'end', 'toothpick', 'head', 'sinker', 'far', 'go', 'break', 'clip', 'usually', 'sufficient', 'keep', 'sinker', 'moving', 'time', 'may', 'want', 'also', 'jam', 'end', 'toothpick', 'back', 'cone', 'break', 'keep', 'sinker', 'completely', 'immobile', 'alternative', 'way', 'accomplishing', 'thing', 'use', 'slip', 'sinker', 'wire', 'corkscrew', 'stem', 'hold', 'worm', 'place'], ['san', 'francisco', 'giant', 'faltered', 'entering', 'all-star', 'break', 'majors’', 'best', 'record', 'dodger', 'pounced', 'overtook', 'despite', 'kershaw’s', 'absence', 'time', 'three-time', 'cy', 'young', 'award', 'winner', 'returned', 'sept', 'los', 'angeles', 'ahead', 'five', 'game', 'well', 'way', 'record', 'pick', 'mlb', 'mvp', 'cy', 'young', 'rookie', 'year', 'manager', 'year'], ['precedent', 'really', 'white', 'house', 'chief', 'strategist', 'much', 'potential', 'access', 'medium', 'muscle', 'anything', 'equivalent', 'breitbart', 'october', 'according', 'report', 'website', 'break', 'previous', 'traffic', 'record', 'reaching', 'audience', 'million', 'consumed', 'million', 'page', 'view']]\n"
     ]
    }
   ],
   "source": [
    "print(contexts)"
   ]
  },
  {
   "cell_type": "markdown",
   "metadata": {},
   "source": [
    "Здесь мы достаем все СЕМЬДЕСЯТ ПЯТЬ значений слова break (такое количество значений немного усложняет задачу дизамбигуации, честно говоря, поэтому леск будет практически нереально заставить работать качественно)"
   ]
  },
  {
   "cell_type": "code",
   "execution_count": 608,
   "metadata": {},
   "outputs": [
    {
     "data": {
      "text/plain": [
       "{'1': 'some abrupt occurrence that interrupts an ongoing activity',\n",
       " '2': 'an unexpected piece of good luck',\n",
       " '3': \"(geology) a crack in the earth's crust resulting from the displacement of one side with respect to the other\",\n",
       " '4': 'a personal or social separation (as between opposing factions)',\n",
       " '5': 'a pause from doing something (as work)',\n",
       " '6': 'the act of breaking something',\n",
       " '7': 'a time interval during which there is a temporary cessation of something',\n",
       " '8': 'breaking of hard tissue such as bone',\n",
       " '9': 'the occurrence of breaking',\n",
       " '10': 'an abrupt change in the tone or register of the voice (as at puberty or due to emotion)',\n",
       " '11': 'the opening shot that scatters the balls in billiards or pool',\n",
       " '12': '(tennis) a score consisting of winning a game when your opponent was serving',\n",
       " '13': 'an act of delaying or interrupting the continuity',\n",
       " '14': 'a sudden dash',\n",
       " '15': 'any frame in which a bowler fails to make a strike or spare',\n",
       " '16': 'an escape from jail',\n",
       " '17': 'terminate',\n",
       " '18': 'become separated into pieces or fragments',\n",
       " '19': 'render inoperable or ineffective',\n",
       " '20': 'ruin completely',\n",
       " '21': 'destroy the integrity of; usually by force; cause to separate into pieces or fragments',\n",
       " '22': 'act in disregard of laws, rules, contracts, or promises',\n",
       " '23': 'move away or escape suddenly',\n",
       " '24': 'scatter or part',\n",
       " '25': 'force out or release suddenly and often violently something pent up',\n",
       " '26': 'prevent completion',\n",
       " '27': \"enter someone's (virtual or real) property in an unauthorized manner, usually with the intent to steal or commit a violent act\",\n",
       " '28': 'make submissive, obedient, or useful',\n",
       " '29': 'fail to agree with; be in violation of; as of rules or patterns',\n",
       " '30': 'surpass in excellence',\n",
       " '31': 'make known to the public information that was previously known only to a few people or that was meant to be kept a secret',\n",
       " '32': 'come into being',\n",
       " '33': 'stop operating or functioning',\n",
       " '34': 'interrupt a continued activity',\n",
       " '35': \"make a rupture in the ranks of the enemy or one's own by quitting or fleeing\",\n",
       " '36': 'curl over and fall apart in surf or foam, of waves',\n",
       " '37': 'lessen in force or effect',\n",
       " '38': 'be broken in',\n",
       " '39': 'come to an end',\n",
       " '40': 'vary or interrupt a uniformity or continuity',\n",
       " '41': 'cause to give up a habit',\n",
       " '42': 'give up',\n",
       " '43': 'come forth or begin from a state of latency',\n",
       " '44': 'happen or take place',\n",
       " '45': 'cause the failure or ruin of',\n",
       " '46': 'invalidate by judicial action',\n",
       " '47': 'discontinue an association or relation; go different ways',\n",
       " '48': 'assign to a lower position; reduce in rank',\n",
       " '49': 'reduce to bankruptcy',\n",
       " '50': 'change directions suddenly',\n",
       " '51': 'emerge from the surface of a body of water',\n",
       " '52': 'break down, literally or metaphorically',\n",
       " '53': 'do a break dance',\n",
       " '54': 'exchange for smaller units of money',\n",
       " '55': 'destroy the completeness of a set of related items',\n",
       " '56': 'make the opening shot that scatters the balls',\n",
       " '57': 'separate from a clinch, in boxing',\n",
       " '58': 'go to pieces',\n",
       " '59': 'break a piece from a whole',\n",
       " '60': 'become punctured or penetrated',\n",
       " '61': 'pierce or penetrate',\n",
       " '62': 'be released or become known; of news',\n",
       " '63': 'cease an action temporarily',\n",
       " '64': 'interrupt the flow of current in',\n",
       " '65': 'undergo breaking',\n",
       " '66': 'find a flaw in',\n",
       " '67': 'find the solution or key to',\n",
       " '68': 'change suddenly from one tone quality or register to another',\n",
       " '69': 'happen',\n",
       " '70': 'become fractured; break or crack on the surface only',\n",
       " '71': 'crack; of the male voice in puberty',\n",
       " '72': 'fall sharply',\n",
       " '73': 'fracture a bone of',\n",
       " '74': 'diminish or discontinue abruptly',\n",
       " '75': 'weaken or destroy in spirit or body'}"
      ]
     },
     "execution_count": 608,
     "metadata": {},
     "output_type": "execute_result"
    }
   ],
   "source": [
    "word = 'break'\n",
    "\n",
    "defin = { str(indx+1) : str(i.definition()) for indx, i in enumerate(wn.synsets(word))}\n",
    "    \n",
    "defin"
   ]
  },
  {
   "cell_type": "markdown",
   "metadata": {},
   "source": [
    "Вычленяем правильные значения"
   ]
  },
  {
   "cell_type": "markdown",
   "metadata": {},
   "source": [
    "Есть гигантская проблема - у большей части примеров (я делала рандом 10 раз) все равно будет метафорическое или частично метафорическое значение. Да, у break целых 75 значений, но даже из них сложно вычленить правильные для метафор. Посмотрим, что получится. Оценивать правильность будем путем сравнения значений, записанных у нас в словаре, со значениями, который будут выдаваться."
   ]
  },
  {
   "cell_type": "code",
   "execution_count": 609,
   "metadata": {},
   "outputs": [
    {
     "name": "stdout",
     "output_type": "stream",
     "text": [
      "[['communist', \"party's\", 'mouthpiece', \"people's\", 'daily', 'warned', 'editorial', 'thursday', 'china', 'must', 'break', 'monopoly', 'core', 'technology', 'standard', 'remain', 'untethered', 'country', 'technology', 'supply', 'chain'], ['world', 'number', 'break', 'karlovic', 'oldest', 'player_3', 'feature', 'davis_4', 'cup', 'single', 'match_16', 'since', 'australian', 'norman_1', 'brooke', 'four', 'time', 'help_8', 'argentina', 'banish', 'memory', 'losing', 'final', 'appearance'], ['bridgeport', 'man_1', 'sentenced', 'southern', 'ct', 'armed_2', 'robbery', 'spree', 'updated', 'pm', 'tuesday', 'november', 'hartford', 'conn', 'ap', 'bridgeport', 'man_1', 'sentenced', 'decade', 'federal', 'prison', 'participating', 'armed', 'robbery', 'spree', 'southern', 'connecticut', 'u.s', 'attorney', 'deirdre', 'daly', 'say', 'derrick', 'gilliam', 'sentenced', 'tuesday', 'bridgeport', 'year', 'one', 'month', 'prison', 'conspiracy', 'affect', 'commerce', 'robbery', 'followed', 'supervised', 'release', 'prosecutor', 'say', 'gilliam', 'others', 'committed', 'seven', 'robbery', 'april', 'july', 'fairfield', 'bridgeport', 'shelton', 'stratford', 'westport', 'say', 'gilliam', 'pointed', 'appeared', 'handgun', 'employee', 'pharmacy', 'gas', 'station', 'restaurant', 'hotel', 'credit_1', 'union', 'two', 'bank_1', \"gilliam's\", 'attorney', 'say', 'client', 'accepts_5', 'responsibility', 'feel', 'sentence', 'excessive', 'considering', 'appeal', 'ordered', 'pay', 'restitution', 'two', 'defendant', 'await', 'sentencing', 'latest', 'sfgate', 'homepage', 'click', 'top', 'news', 'around', 'bay', 'area', 'beyond', 'sign', 'newsletter', 'first', 'learn', 'break_30', 'news', 'go_4', 'sign', 'manage', 'profile', 'top', 'page', 'break_30', 'news'], ['credit', 'suisse’s', 'swiss', 'unit', 'kick', 'operation', 'ahead', 'ipo', 'jeffrey', 'vögeli', 'nov', 'et', 'bloomberg', 'credit', 'suisse', 'group', 'ag’s', 'swiss', 'unit_1', 'began_2', 'life', 'legally', 'independent_1', 'company', 'enabling', 'bank_8', 'pursue_1', 'plan_3', 'sell_4', 'part_13', 'business', 'public', 'offering_14', 'next', 'year_1', 'carving_1', 'separate_9', 'entity', 'credit', 'suisse', 'also', 'fulfills_1', 'regulatory', 'requirement', 'make_36', 'bank_5', 'easier', 'break_14', 'crisis', 'bank_5', 'said', 'statement_3', 'monday', 'credit', 'suisse', 'schweiz', 'ag', 'license', 'allowing', 'local', 'business', 'keep', 'functioning_2', 'parent', 'file', 'bankruptcy', 'swiss', 'rival_1', 'ubs', 'group', 'ag', 'also', 'created_1', 'domestic', 'subsidiary', 'recent', 'year', 'switzerland', 'cornerstone', 'chief', 'executive_3', 'officer_1', 'tidjane', 'thiam’s', 'plan', 'raising', 'capital_1', 'reshapes', 'company_7', 'focus', 'wealth', 'management', 'bank', 'looking', 'raise', 'billion', 'franc', 'billion', 'billion', 'franc', 'sale', 'percent', 'percent', 'swiss', 'business', 'public', 'offering_9', 'slated', 'late', 'next', 'year', 'launch', 'important', 'milestone', 'implementation', 'group', 'strategy', 'thiam', 'said_8', 'statement', 'clearly', 'demonstrate', 'value_1', 'swiss', 'business', 'create', 'positive', 'momentum', 'interest', 'client', 'bank_8', 'took', 'full-page', 'ad', 'several', 'swiss', 'newspaper', 'monday', 'saying_3', 'move_17', 'would', 'allow_6', 'credit', 'suisse', 'focus', 'home', 'market', 'local', 'medium', 'speculated_3', 'bank_1', 'might', 'eventually', 'sell_4', 'entire_2', 'swiss_1', 'business', 'swiss_1', 'unit', 'so-called', 'universal', 'bank_8', 'offer_3', 'private', 'banking_1', 'asset', 'management', 'well', 'retail', 'corporate', 'service', 'contributed', 'percent', 'group', 'revenue', 'first', 'nine', 'month', 'year', 'highest', 'pretax', 'profit', 'bank’s', 'unit', 'also', 'employ', 'biggest', 'chunk', 'employee', 'end', 'september', 'recent_2', 'month', 'executive', 'number', 'swiss', 'bank_15', 'questioned', 'credit_8', 'suisse’s', 'ability', 'reach', 'profitability', 'target', 'swiss', 'business', 'zurich-based', 'bank_8', 'aiming', 'pretax', 'profit', 'billion_3', 'franc', 'unit', 'billion_3', 'franc', 'credit', 'suisse’s', 'share', 'little', 'changed_5', 'monday', 'dropping', 'percent', 'year', 'amid', 'selloff', 'european', 'bank_8', 'investor', 'question', 'business', 'model', 'pressure_3', 'regulatory', 'cost', 'record-low', 'interest', 'rate_1', 'market', 'uncertainty', 'swiss', 'bank_1', 'also', 'contend', 'negative_7', 'rate', 'central', 'bank_1', 'deposit_10', 'erosion', 'country’s', 'tradition', 'bank_15', 'secrecy', 'earlier', 'month', 'head_3', 'swiss', 'operation', 'thomas', 'gottstein', 'reshuffled', 'management_1', 'division_10', 'putting_5', 'didier', 'denat', 'charge_4', 'corporate', 'investment_4', 'banking', 'serge', 'fehr', 'head_3', 'operation', 'private', 'wealth', 'management', 'client', 'felix', 'baumgartner', 'oversee', 'premium', 'client', 'add', 'comment', 'fourth', 'paragraph_1', 'assistance', 'alice', 'baghdjian', 'contact_4', 'reporter', 'story', 'jeffrey', 'vögeli', 'zurich', 'jvogeli@bloomberg.net', 'contact', 'editor', 'responsible', 'story', 'simone', 'meier', 'smeier@bloomberg.net', 'jeffrey', 'voegeli', 'bloomberg', 'l.p'], ['break_30', 'stereotype', 'point_14', 'counterexample', 'already', 'known_3', 'person', 'trying', 'convince', 'hardworking', 'black_4', 'colleague_1', 'sweetheart', 'muslim', 'neighbor', 'etc', 'dramatic', 'gain_7', 'glbt', 'people', 'made_7', 'appeal_6', 'right', 'discovery', 'respected', 'relative', 'friend', 'neighbor', 'co-worker', 'glbt'], ['news', 'come_16', 'relief', 'chelsea', 'fan', 'courtois', 'kept', 'five', 'clean_25', 'sheet', 'row', 'prior', 'international_2', 'break_2', 'help', 'antonio', \"conte's\", 'side', 'climb', 'second', 'place_14', 'premier', 'league'], ['diamond', 'earring', 'star', \"christie's\", 'jewel', 'auction', 'geneva', 'updated', 'tuesday', 'november', 'geneva', 'ap', \"christie's\", 'kicking', 'geneva', 'fall', 'season', 'big-ticket', 'jewelry', 'auction', 'headlining', 'pair', 'pear-shaped', 'diamond', 'earring', 'estimated', 'fetch_2', 'million_1', 'million_1', 'swiss', 'franc', 'million_1', 'million_1', 'miroir', 'de', \"l'amour\", 'earring', 'feature', 'largest', 'flawless', 'highest-quality', 'pear-shaped', 'diamond', 'world', 'carat', 'earring', 'offered_11', 'tuesday', 'night', 'without', 'reserve', 'price', 'mean_4', 'sell_2', 'even_6', 'fall_8', 'estimate', 'range_9', 'managing', 'director', 'tobias', 'kormind', 'jeweler', 'diamond', 'predicted', 'buyer', 'would', 'newly', 'minted', 'russian', 'chinese', 'billionaire', 'oligarch', 'business', 'tycoon', 'shy', 'flaunting', 'wealth', 'also', 'hammer', 'pear-shaped', 'pink', 'diamond', 'ring', 'expected', 'fetch', 'million', 'latest', 'sfgate', 'homepage', 'click', 'top', 'news', 'around', 'bay', 'area', 'beyond', 'sign', 'newsletter', 'first', 'learn', 'break_30', 'news', 'go_4', 'sign', 'manage', 'profile', 'top', 'page', 'hundred', 'march_12', 'sf'], ['peg', 'slip_23', 'sinker_1', 'prevent', 'sliding', 'line', 'jam_7', 'one', 'end_7', 'toothpick', 'head_21', 'sinker_1', 'far_7', 'go_2', 'break_2', 'clip_1', 'usually', 'sufficient', 'keep_8', 'sinker', 'moving', 'time', 'may', 'want_2', 'also', 'jam', 'end_1', 'toothpick', 'back', 'cone', 'break_19', 'keep', 'sinker', 'completely', 'immobile', 'alternative', 'way_3', 'accomplishing', 'thing_4', 'use', 'slip_5', 'sinker_1', 'wire', 'corkscrew', 'stem', 'hold_7', 'worm', 'place'], ['san', 'francisco', 'giant', 'faltered', 'entering_6', 'all-star', 'break_29', 'majors’', 'best', 'record_5', 'dodger', 'pounced', 'overtook', 'despite', 'kershaw’s', 'absence_2', 'time', 'three-time', 'cy', 'young', 'award', 'winner', 'returned', 'sept', 'los', 'angeles', 'ahead_5', 'five', 'game', 'well_12', 'way', 'record_5', 'pick_1', 'mlb', 'mvp', 'cy', 'young', 'rookie', 'year', 'manager', 'year'], ['precedent', 'really', 'white_2', 'house', 'chief', 'strategist', 'much', 'potential', 'access_7', 'medium', 'muscle', 'anything', 'equivalent', 'breitbart', 'october', 'according', 'report', 'website', 'break_29', 'previous', 'traffic', 'record_5', 'reaching_5', 'audience_1', 'million_1', 'consumed', 'million_1', 'page', 'view_5']]\n",
      "['', '', '30', '30', '14', '30', '2', '30', '2', '19', '29', '29']\n"
     ]
    }
   ],
   "source": [
    "result = disambiguation(contexts)\n",
    "\n",
    "all_breaks = []\n",
    "\n",
    "print(result)\n",
    "\n",
    "for sent in result:\n",
    "    for word in sent:\n",
    "        if 'break' in word:\n",
    "            all_breaks.append(re.sub('\\D', '', word))\n",
    "            \n",
    "print(all_breaks)"
   ]
  },
  {
   "cell_type": "code",
   "execution_count": 610,
   "metadata": {},
   "outputs": [
    {
     "name": "stdout",
     "output_type": "stream",
     "text": [
      "1 some abrupt occurrence that interrupts an ongoing activity\n",
      "1 some abrupt occurrence that interrupts an ongoing activity\n",
      "30 surpass in excellence\n",
      "30 surpass in excellence\n",
      "14 a sudden dash\n",
      "30 surpass in excellence\n",
      "2 an unexpected piece of good luck\n",
      "30 surpass in excellence\n",
      "2 an unexpected piece of good luck\n",
      "19 render inoperable or ineffective\n",
      "29 fail to agree with; be in violation of; as of rules or patterns\n",
      "29 fail to agree with; be in violation of; as of rules or patterns\n"
     ]
    }
   ],
   "source": [
    "for br in all_breaks:\n",
    "    if br in defin.keys():\n",
    "        print(br+' '+defin[br])\n",
    "    else:\n",
    "        print('1'+' '+defin['1'])"
   ]
  },
  {
   "cell_type": "markdown",
   "metadata": {},
   "source": [
    "После не-знаю-какой-попытки исправить результаты и на 610 ячейке я немного утомилась и решила остановиться с тем, что есть. Смотрим:\n",
    "0. В принципе, break monopoly core - это прерывание какой-то активити, 1 балл.\n",
    "1. Значение не очень ясно из имеющегося контекста, но точно не связано с прерыванием деятельности, 0 баллов.\n",
    "2. Все ломает breaking news, для улучшения алгоритма его можно почистить. Один из тех случаев, когда очевидно, что метафоричность текста Леску не ясна. 0 баллов.\n",
    "3. Sudden dash здесь не происходит, но ясно, что он возможно стриггерился на слово crisis. 0 баллов\n",
    "4. Сломанный стереотип не совсем подходит под определение surpass in excellence. 0 баллов\n",
    "5. Вау, оно подошло. Действительно, удача в игре. 1 балл.\n",
    "6. Ох уже мне эти breaking news, надоели. 0 баллов.\n",
    "7. Похоже на правду, по крайней мере, по слову sufficient он определил good luck. 1 балл. И еще готова дать 100 баллов за правильное определение break_19 во второй части текста - там действительно что-то неработающее/неисправное, проблемы с зубочисткой или что-то вроде того. 1 балл.\n",
    "8. Мимо, среагировал на что-то в предложении, связанное с несогласием - предложение действительно про соперничество двух команд, можно понять. 1 балл.\n",
    "9. Слишком мимо, тут побитый рекорд, а не несогласие. 0 баллов"
   ]
  },
  {
   "cell_type": "markdown",
   "metadata": {},
   "source": [
    "В общем, Леск сработал не очень удачно, но куда лучше (до этого больше 0 он мне не выдавал ни при каких попытках), чем раньше. Использовалась нормализация, чистка стоп-слов, убирание чисел, увеличение окна. Результат - 5/12 были угаданы (относительно, но все же).\n",
    "Можно улучшить его работу немного, если сделать более качественную лемматизацию, чем есть сейчас (функцию, где нлтк лемматизирует части речи после пос-теггинга, он похоже на это подбит, куда ему до нашего пайморфи)."
   ]
  },
  {
   "cell_type": "code",
   "execution_count": null,
   "metadata": {},
   "outputs": [],
   "source": []
  }
 ],
 "metadata": {
  "kernelspec": {
   "display_name": "Python 3",
   "language": "python",
   "name": "python3"
  },
  "language_info": {
   "codemirror_mode": {
    "name": "ipython",
    "version": 3
   },
   "file_extension": ".py",
   "mimetype": "text/x-python",
   "name": "python",
   "nbconvert_exporter": "python",
   "pygments_lexer": "ipython3",
   "version": "3.6.5"
  }
 },
 "nbformat": 4,
 "nbformat_minor": 2
}
