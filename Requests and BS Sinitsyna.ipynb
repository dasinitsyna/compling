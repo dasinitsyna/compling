{
 "cells": [
  {
   "cell_type": "code",
   "execution_count": 1,
   "metadata": {},
   "outputs": [],
   "source": [
    "import requests \n",
    "from bs4 import BeautifulSoup\n",
    "import re\n",
    "import time"
   ]
  },
  {
   "cell_type": "code",
   "execution_count": 2,
   "metadata": {},
   "outputs": [
    {
     "data": {
      "text/plain": [
       "<Response [200]>"
      ]
     },
     "execution_count": 2,
     "metadata": {},
     "output_type": "execute_result"
    }
   ],
   "source": [
    "requests.get('https://theins.ru/')"
   ]
  },
  {
   "cell_type": "code",
   "execution_count": 50,
   "metadata": {},
   "outputs": [],
   "source": [
    "class SomeArticles:\n",
    "    \n",
    "    def __init__(self):\n",
    "        self.articles=[]\n",
    "\n",
    "    def getnytarticle(self, url):\n",
    "\n",
    "        findheaders = re.compile('<h1 itemprop=\"name\">(.+)</h1>', re.S)\n",
    "        whole_article = re.compile('<div itemprop=\"description\">(.+)<div class=\"post-tags\">', re.S)\n",
    "        delscript = re.compile(\"<script.*?>.+?</script>\", re.S)\n",
    "        art=requests.get(url)\n",
    "        title = findheaders.findall(art.text)[0]\n",
    "        article = whole_article.findall(art.text)[0]\n",
    "        article = \"\".join(delscript.split(article))\n",
    "\n",
    "        replacement = {'&raquo;' : '\"', '&laquo;' : '\"', '\\xa0' : ' ', '\\n' : '', '\\t' : '', '&nbsp;' : '', '&mdash;' : ' -'}\n",
    "        def replace_all(text, dic):\n",
    "            for i, j in dic.items():\n",
    "                text = text.replace(i, j)\n",
    "            return text\n",
    "\n",
    "        article = replace_all(article, replacement)\n",
    "        title = replace_all(title, replacement)\n",
    "\n",
    "        self.articles.append(re.sub(\"<.*?>\", \" \", title+\"\\n-----\\n\"+article+'\\nКонец статьи\\n\\n'))\n",
    "\n",
    "    def getlotsofarticles(self, url, n):\n",
    "        res = ''\n",
    "        try:\n",
    "            for page in range(1, n+1):\n",
    "                links = BeautifulSoup(requests.get(\"https://theins.ru/category/news/page/{}\".format(page)).text, \"html5lib\").find_all('h3')\n",
    "                links = [l.find_all(\"a\")[0][\"href\"] for l in links]\n",
    "                print(links)\n",
    "                for l in links:\n",
    "                    self.getnytarticle(l)\n",
    "                    time.sleep(0.3)\n",
    "                for art in self.articles:\n",
    "                    res+=art\n",
    "        except:\n",
    "            pass    \n",
    "        return res\n",
    "\n",
    "    def writetotxt(self, url, n, filename):\n",
    "        txt = open(filename, 'w', encoding = 'utf-8')\n",
    "        txt.write(self.getlotsofarticles(url, n))\n",
    "        return 'Now all of the articles are in {}'.format(filename)\n",
    "\n",
    "    def readtxt(self, filename):\n",
    "        arts = open(filename, 'r', encoding = 'utf-8').read()"
   ]
  },
  {
   "cell_type": "code",
   "execution_count": 51,
   "metadata": {},
   "outputs": [
    {
     "name": "stdout",
     "output_type": "stream",
     "text": [
      "['https://theins.ru/news/122070', 'https://theins.ru/news/122065', 'https://theins.ru/news/122056', 'https://theins.ru/news/122053', 'https://theins.ru/news/122048', 'https://theins.ru/news/122041', 'https://theins.ru/news/122034', 'https://theins.ru/news/122031', 'https://theins.ru/news/122019', 'https://theins.ru/news/122007', 'https://theins.ru/news/122004', 'https://theins.ru/news/121997']\n"
     ]
    },
    {
     "data": {
      "text/plain": [
       "'Now all of the articles are in try_for_real.txt'"
      ]
     },
     "execution_count": 51,
     "metadata": {},
     "output_type": "execute_result"
    }
   ],
   "source": [
    "myarticles = SomeArticles()\n",
    "myarticles.writetotxt(\"https://theins.ru/category/news/page/\", 1, 'try_for_real.txt')"
   ]
  },
  {
   "cell_type": "code",
   "execution_count": 52,
   "metadata": {},
   "outputs": [],
   "source": [
    "myarticles.readtxt('try_for_real.txt')"
   ]
  },
  {
   "cell_type": "code",
   "execution_count": null,
   "metadata": {},
   "outputs": [],
   "source": []
  }
 ],
 "metadata": {
  "kernelspec": {
   "display_name": "Python 3",
   "language": "python",
   "name": "python3"
  },
  "language_info": {
   "codemirror_mode": {
    "name": "ipython",
    "version": 3
   },
   "file_extension": ".py",
   "mimetype": "text/x-python",
   "name": "python",
   "nbconvert_exporter": "python",
   "pygments_lexer": "ipython3",
   "version": "3.6.5"
  }
 },
 "nbformat": 4,
 "nbformat_minor": 2
}
