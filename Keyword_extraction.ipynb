{
 "cells": [
  {
   "cell_type": "code",
   "execution_count": 4,
   "metadata": {},
   "outputs": [],
   "source": [
    "import json, os\n",
    "import pandas as pd\n",
    "from nltk.corpus import stopwords\n",
    "import numpy as np\n",
    "from pymorphy2 import MorphAnalyzer\n",
    "from collections import Counter\n",
    "from sklearn.feature_extraction.text import TfidfVectorizer\n",
    "morph = MorphAnalyzer()\n",
    "stops = set(stopwords.words('russian'))"
   ]
  },
  {
   "cell_type": "code",
   "execution_count": 5,
   "metadata": {},
   "outputs": [],
   "source": [
    "pd.set_option('display.max_colwidth', 1000)"
   ]
  },
  {
   "cell_type": "markdown",
   "metadata": {},
   "source": [
    "## Данные"
   ]
  },
  {
   "cell_type": "markdown",
   "metadata": {},
   "source": [
    "Возьмем данные вот отсюда - https://github.com/mannefedov/ru_kw_eval_datasets Там лежат 4 датасета (статьи с хабра, с Russia Today, Независимой газеты и научные статьи с Киберленинки). Датасет НГ самый маленький, поэтому возьмем его в качестве примера."
   ]
  },
  {
   "cell_type": "code",
   "execution_count": 6,
   "metadata": {},
   "outputs": [],
   "source": [
    "# скачаем данные в папке data и распакуем их\n",
    "PATH_TO_DATA = './data'"
   ]
  },
  {
   "cell_type": "code",
   "execution_count": 7,
   "metadata": {},
   "outputs": [],
   "source": [
    "files = [os.path.join(PATH_TO_DATA, file) for file in os.listdir(PATH_TO_DATA)]"
   ]
  },
  {
   "cell_type": "markdown",
   "metadata": {},
   "source": [
    "Объединим файлы в один датасет."
   ]
  },
  {
   "cell_type": "code",
   "execution_count": 8,
   "metadata": {},
   "outputs": [],
   "source": [
    "data = pd.concat([pd.read_json(file, lines=True, encoding = 'utf-8') for file in files][:1], axis=0, ignore_index=True)"
   ]
  },
  {
   "cell_type": "code",
   "execution_count": 9,
   "metadata": {},
   "outputs": [
    {
     "data": {
      "text/plain": [
       "(999, 5)"
      ]
     },
     "execution_count": 9,
     "metadata": {},
     "output_type": "execute_result"
    }
   ],
   "source": [
    "data.shape"
   ]
  },
  {
   "cell_type": "markdown",
   "metadata": {},
   "source": [
    "Каждой статье приписано какое-то количество ключевых слов. Допустим, что это единственно правильный набор ключевых слов (что конечно не так, но других данных у нас нет). Наша задача - придумать как извлекать точно такой же список автоматически.  \n",
    "Зададим несколько метрик, по которым будем определять качество извлекаемых ключевых слов - точность, полноту, ф1-меру и меру жаккарда."
   ]
  },
  {
   "cell_type": "code",
   "execution_count": 11,
   "metadata": {},
   "outputs": [],
   "source": [
    "def evaluate(true_kws, predicted_kws):\n",
    "    assert len(true_kws) == len(predicted_kws)\n",
    "    \n",
    "    precisions = []\n",
    "    recalls = []\n",
    "    f1s = []\n",
    "    jaccards = []\n",
    "    \n",
    "    for i in range(len(true_kws)):\n",
    "        true_kw = set(true_kws[i])\n",
    "        predicted_kw = set(predicted_kws[i])\n",
    "        \n",
    "        tp = len(true_kw & predicted_kw)\n",
    "        union = len(true_kw | predicted_kw)\n",
    "        fp = len(predicted_kw - true_kw)\n",
    "        fn = len(true_kw - predicted_kw)\n",
    "        \n",
    "        if (tp+fp) == 0:\n",
    "            prec = 0\n",
    "        else:\n",
    "            prec = tp / (tp + fp)\n",
    "        \n",
    "        if (tp+fn) == 0:\n",
    "            rec = 0\n",
    "        else:\n",
    "            rec = tp / (tp + fn)\n",
    "        if (prec+rec) == 0:\n",
    "            f1 = 0\n",
    "        else:\n",
    "            f1 = (2*(prec*rec))/(prec+rec)\n",
    "            \n",
    "        jac = tp / union\n",
    "        \n",
    "        precisions.append(prec)\n",
    "        recalls.append(rec)\n",
    "        f1s.append(f1)\n",
    "        jaccards.append(jac)\n",
    "    print('Precision - ', round(np.mean(precisions), 2))\n",
    "    print('Recall - ', round(np.mean(recalls), 2))\n",
    "    print('F1 - ', round(np.mean(f1s), 2))\n",
    "    print('Jaccard - ', round(np.mean(jaccards), 2))\n",
    "    \n",
    "    \n",
    "        "
   ]
  },
  {
   "cell_type": "markdown",
   "metadata": {},
   "source": [
    "Проверим, что всё работает как надо."
   ]
  },
  {
   "cell_type": "code",
   "execution_count": 12,
   "metadata": {},
   "outputs": [
    {
     "name": "stdout",
     "output_type": "stream",
     "text": [
      "Precision -  1.0\n",
      "Recall -  1.0\n",
      "F1 -  1.0\n",
      "Jaccard -  1.0\n"
     ]
    }
   ],
   "source": [
    "evaluate(data['keywords'], data['keywords'])"
   ]
  },
  {
   "cell_type": "markdown",
   "metadata": {},
   "source": [
    "# Тупое решение."
   ]
  },
  {
   "cell_type": "markdown",
   "metadata": {},
   "source": [
    "Давайте не будем думать, а попробуем сразу придумать какое-то решение."
   ]
  },
  {
   "cell_type": "markdown",
   "metadata": {},
   "source": [
    "Возьмем первые 5 слов из заголовка."
   ]
  },
  {
   "cell_type": "code",
   "execution_count": 13,
   "metadata": {},
   "outputs": [
    {
     "name": "stdout",
     "output_type": "stream",
     "text": [
      "Precision -  0.06\n",
      "Recall -  0.06\n",
      "F1 -  0.06\n",
      "Jaccard -  0.03\n"
     ]
    }
   ],
   "source": [
    "evaluate(data['keywords'], data['title'].apply(lambda x: x.lower().split()[:5]))"
   ]
  },
  {
   "cell_type": "markdown",
   "metadata": {},
   "source": [
    "Или 10."
   ]
  },
  {
   "cell_type": "code",
   "execution_count": 14,
   "metadata": {},
   "outputs": [
    {
     "name": "stdout",
     "output_type": "stream",
     "text": [
      "Precision -  0.06\n",
      "Recall -  0.07\n",
      "F1 -  0.06\n",
      "Jaccard -  0.03\n"
     ]
    }
   ],
   "source": [
    "evaluate(data['keywords'], data['title'].apply(lambda x: x.lower().split()[:10]))"
   ]
  },
  {
   "cell_type": "markdown",
   "metadata": {},
   "source": [
    "Теперь попробуем взять самые частотные слова."
   ]
  },
  {
   "cell_type": "code",
   "execution_count": 15,
   "metadata": {},
   "outputs": [
    {
     "name": "stdout",
     "output_type": "stream",
     "text": [
      "Precision -  0.02\n",
      "Recall -  0.04\n",
      "F1 -  0.02\n",
      "Jaccard -  0.01\n"
     ]
    }
   ],
   "source": [
    "evaluate(data['keywords'], data['content'].apply(lambda x: \n",
    "                                                 [x[0] for x in Counter(x.lower().split()).most_common(10)]))"
   ]
  },
  {
   "cell_type": "markdown",
   "metadata": {},
   "source": [
    "Или вообще рандомные слова."
   ]
  },
  {
   "cell_type": "code",
   "execution_count": 16,
   "metadata": {},
   "outputs": [
    {
     "name": "stdout",
     "output_type": "stream",
     "text": [
      "Precision -  0.01\n",
      "Recall -  0.01\n",
      "F1 -  0.01\n",
      "Jaccard -  0.0\n"
     ]
    }
   ],
   "source": [
    "evaluate(data['keywords'], data['content'].apply(lambda x: \n",
    "                                                 np.random.choice(list(set(x.lower().split())), 10)))"
   ]
  },
  {
   "cell_type": "markdown",
   "metadata": {},
   "source": [
    "Теперь давайте посмотрим, что вообще извлекается."
   ]
  },
  {
   "cell_type": "code",
   "execution_count": 17,
   "metadata": {},
   "outputs": [
    {
     "data": {
      "text/plain": [
       "0                         [\"молодежное, \"яблоко\":, оппозиционная, деятельность, становится, опасной]\n",
       "1                                                                 [\"газпрома\", на, всех, не, хватит]\n",
       "2                                                   [бесконечная, партия, в, четырехмерные, шахматы]\n",
       "3    [экс-депутат,, осужденная, за, фальсификацию, выборов,, оказалась, членом, \"боевого, братства\"]\n",
       "4                               [новая, москва, останется, территорией, экологической, безопасности]\n",
       "5                                [f1., гран-при, сша, прошел, без, четырех, машин, и, со, «стопкой»]\n",
       "6                                          [100, ведущих, политиков, россии, в, феврале, 2018, года]\n",
       "7                                               [закон, \"о, культуре\", принимают, на, фоне, арестов]\n",
       "8                                    [насколько, реальна, газовая, подоплека, сирийского, конфликта]\n",
       "9                                  [фсб:, в, калужской, области, задержаны, четверо, участников, иг]\n",
       "Name: title, dtype: object"
      ]
     },
     "execution_count": 17,
     "metadata": {},
     "output_type": "execute_result"
    }
   ],
   "source": [
    "data['title'].apply(lambda x: x.lower().split()[:10]).head(10)"
   ]
  },
  {
   "cell_type": "code",
   "execution_count": 18,
   "metadata": {},
   "outputs": [
    {
     "data": {
      "text/plain": [
       "0                                                      [в, и, на, не, что, –, его, «молодежное, с, это]\n",
       "1                                                            [в, и, на, –, млрд., куб., по, к, газа, м]\n",
       "2                                                                 [в, –, и, не, я, но, что, это, на, с]\n",
       "3                                                       [в, на, и, ким, по, –, что, видео, он, зинаиды]\n",
       "4                                              [в, и, на, новой, площадью, москвы, –, развития, с, для]\n",
       "5                                                             [в, на, и, не, с, но, уже, что, у, гонки]\n",
       "6                                                  [на, в, (с, место)., и, рф, позиции, влияние, по, с]\n",
       "7                                                        [в, и, –, по, с, культуре, не, из, будет, как]\n",
       "8                                                              [в, и, на, с, что, для, по, –, не, газа]\n",
       "9    [в, рф, террористической, организации, задержаны, –, четверо, участников, запрещенной, «исламское]\n",
       "Name: content, dtype: object"
      ]
     },
     "execution_count": 18,
     "metadata": {},
     "output_type": "execute_result"
    }
   ],
   "source": [
    "data['content'].apply(lambda x: [x[0] for x in Counter(x.lower().split()).most_common(10)]).head(10)"
   ]
  },
  {
   "cell_type": "markdown",
   "metadata": {},
   "source": [
    "Когда извлекаются частотные слова, то список почти полностью состоит из всяких стоп-слов. Также из-за плохой токенизации некоторые слова в обоих списках - пунктуация или слова с пунктуацией на концах. К тому же извлекаемые слова ненормализованы, а правильные ключевые слова - наоборот."
   ]
  },
  {
   "cell_type": "markdown",
   "metadata": {},
   "source": [
    "## Токенизация, удаление стоп-слов и нормализация."
   ]
  },
  {
   "cell_type": "code",
   "execution_count": 436,
   "metadata": {},
   "outputs": [],
   "source": [
    "from string import punctuation\n",
    "from nltk.corpus import stopwords\n",
    "punct = punctuation+'«»—…“”*№–'\n",
    "stops = open('stopw.txt', 'r', encoding = 'utf-8').read()\n",
    "\n",
    "def normalize(text):\n",
    "    \n",
    "    words = [word.strip(punct) for word in text.lower().split()]\n",
    "    words = [morph.parse(word)[0].normal_form for word in words if word and word not in stops]\n",
    "\n",
    "    return words"
   ]
  },
  {
   "cell_type": "code",
   "execution_count": 437,
   "metadata": {},
   "outputs": [],
   "source": [
    "data['content_norm'] = data['content'].apply(normalize)"
   ]
  },
  {
   "cell_type": "code",
   "execution_count": 438,
   "metadata": {},
   "outputs": [],
   "source": [
    "data['title_norm'] = data['title'].apply(normalize)"
   ]
  },
  {
   "cell_type": "code",
   "execution_count": 439,
   "metadata": {},
   "outputs": [
    {
     "data": {
      "text/plain": [
       "0            [молодёжный, яблоко, оппозиционный, деятельность, становиться, опасный]\n",
       "1                                                                 [газпром, хватить]\n",
       "2                                      [бесконечный, партия, четырехмерный, шахматы]\n",
       "3    [экс-депутат, осудить, фальсификация, выбор, оказаться, член, боевой, братство]\n",
       "4                 [новый, москва, остаться, территория, экологический, безопасность]\n",
       "5                    [f1, гран-при, сша, пройти, без, четыре, машина, стопка, штраф]\n",
       "6                                [100, ведущий, политик, россия, февраль, 2018, год]\n",
       "7                                           [закон, культура, принимать, фон, арест]\n",
       "8                     [насколько, реальный, газовый, подоплёка, сирийский, конфликт]\n",
       "9                       [фсб, калужский, область, задержать, четверо, участник, иго]\n",
       "Name: title_norm, dtype: object"
      ]
     },
     "execution_count": 439,
     "metadata": {},
     "output_type": "execute_result"
    }
   ],
   "source": [
    "data['title_norm'].head(10)"
   ]
  },
  {
   "cell_type": "markdown",
   "metadata": {},
   "source": [
    "Попробуем те же самые методы."
   ]
  },
  {
   "cell_type": "code",
   "execution_count": 440,
   "metadata": {},
   "outputs": [
    {
     "name": "stdout",
     "output_type": "stream",
     "text": [
      "Precision -  0.12\n",
      "Recall -  0.23\n",
      "F1 -  0.15\n",
      "Jaccard -  0.08\n"
     ]
    }
   ],
   "source": [
    "# топ 10 частотных слов статьи\n",
    "evaluate(data['keywords'], data['content_norm'].apply(lambda x: [x[0] for x in Counter(x).most_common(10)]))"
   ]
  },
  {
   "cell_type": "code",
   "execution_count": 441,
   "metadata": {},
   "outputs": [
    {
     "name": "stdout",
     "output_type": "stream",
     "text": [
      "Precision -  0.13\n",
      "Recall -  0.14\n",
      "F1 -  0.12\n",
      "Jaccard -  0.07\n"
     ]
    }
   ],
   "source": [
    "evaluate(data['keywords'],data['title_norm'].apply(lambda x: x[:10]))"
   ]
  },
  {
   "cell_type": "markdown",
   "metadata": {},
   "source": [
    "Качество сильно улучшилось! Можно теперь ещё раз посмотреть, что плохого извлекается."
   ]
  },
  {
   "cell_type": "code",
   "execution_count": 442,
   "metadata": {},
   "outputs": [
    {
     "data": {
      "text/plain": [
       "0                [яблоко, молодёжный, акция, год, активист, деятельность, политика, московский, власть, задача]\n",
       "1                             [миллиард, газа, год, куб, газпром, добыча, 2020, должный, производитель, страна]\n",
       "2                                   [год, книга, роман, писать, выйти, мир, перевод, век, стихотворение, можно]\n",
       "3                                 [зинаида, видео, год, журналист, суд, дело, бывший, футиный, рубль, судебный]\n",
       "4                           [площадь, территория, новый, москва, га, столица, тинао, парковый, развитие, парка]\n",
       "5                                     [гонка, два, команда, место, позиция, из-за, круг, чемпионат, три, пилот]\n",
       "6                        [место, влияние, рф, позиция, глава, россия, президент, сергей, политический, рейтинг]\n",
       "7                  [культура, закон, сфера, стд, разработать, концепция, проект, изменение, сообщество, услуга]\n",
       "8                                [газопровод, сирия, год, турция, газа, россия, европа, катар, турецкий, поток]\n",
       "9     [участник, рф, террористический, организация, задержать, цос, четверо, запретить, исламский, государство]\n",
       "10                          [тихон, стихомант, журибеда, старик, время, казак, потом, сэмена, говорить, что-то]\n",
       "11                         [жильё, кв, год, миллион, жилищный, население, строительство, спрос, прогноз, центр]\n",
       "12                   [российский, театр, зритель, стать, кино, год, получить, хороший, результат, исследование]\n",
       "13                   [фестиваль, революция, фильм, ленин, награда, хороший, сахалин, посмотреть, роль, миронов]\n",
       "14                   [вечер, фёдоров, балашов, книга, виктория, произведение, женщина, женский, главный, елена]\n",
       "15      [сирийский, переговоры, резолюция, оон, франция, сторона, макрон, французский, гуманитарный, президент]\n",
       "16                                 [рф, суд, кс, запрос, постановление, право, человек, бывший, акционер, юкос]\n",
       "17             [электромобиль, год, тысяча, кобальт, компания, аккумулятор, автомобиль, более, цена, агентство]\n",
       "18                             [хороший, фильм, оскар, год, главный, стать, женщина, церемония, два, статуэтка]\n",
       "19                       [сабина, нюрбургринг, трасса, fia, wtcc, участие, пилотесса, шмитц, гонка, автомобиль]\n",
       "Name: content_norm, dtype: object"
      ]
     },
     "execution_count": 442,
     "metadata": {},
     "output_type": "execute_result"
    }
   ],
   "source": [
    "data['content_norm'].apply(lambda x: [x[0] for x in Counter(x).most_common(10)]).head(20)"
   ]
  },
  {
   "cell_type": "markdown",
   "metadata": {},
   "source": [
    "Ещё остались некоторые стоп-слова. Вместо того, чтобы расширять список, давайте попробуем выкинуть несуществительные."
   ]
  },
  {
   "cell_type": "code",
   "execution_count": 443,
   "metadata": {},
   "outputs": [],
   "source": [
    "def normalize(text):\n",
    "    \n",
    "    words = [word.strip(punct) for word in text.lower().split()]\n",
    "    words = [morph.parse(word)[0] for word in words if word and word not in stops]\n",
    "    words = [word.normal_form for word in words if word.tag.POS == 'NOUN']\n",
    "\n",
    "    return words"
   ]
  },
  {
   "cell_type": "code",
   "execution_count": 444,
   "metadata": {},
   "outputs": [],
   "source": [
    "data['content_norm'] = data['content'].apply(normalize)"
   ]
  },
  {
   "cell_type": "code",
   "execution_count": 445,
   "metadata": {},
   "outputs": [
    {
     "name": "stdout",
     "output_type": "stream",
     "text": [
      "Precision -  0.13\n",
      "Recall -  0.25\n",
      "F1 -  0.16\n",
      "Jaccard -  0.09\n"
     ]
    }
   ],
   "source": [
    "evaluate(data['keywords'], data['content_norm'].apply(lambda x: [x[0] for x in Counter(x).most_common(10)]))"
   ]
  },
  {
   "cell_type": "markdown",
   "metadata": {},
   "source": [
    "Ещу улучшения!"
   ]
  },
  {
   "cell_type": "code",
   "execution_count": 446,
   "metadata": {},
   "outputs": [
    {
     "data": {
      "text/plain": [
       "0        [яблоко, акция, год, активист, деятельность, политика, власть, задача, молодая, человек]\n",
       "1            [миллиард, газа, год, куб, газпром, добыча, производитель, страна, прогноз, холдинг]\n",
       "2                [год, книга, роман, мир, перевод, стихотворение, читатель, жанр, поэзия, работа]\n",
       "3              [зинаида, видео, год, журналист, суд, дело, рубль, процесс, заседание, экспертиза]\n",
       "4                   [площадь, территория, москва, га, столица, тинао, развитие, парка, парк, год]\n",
       "5                    [гонка, команда, место, позиция, круг, чемпионат, пилот, бокс, заезд, льюис]\n",
       "6               [место, влияние, рф, позиция, глава, россия, президент, сергей, рейтинг, участие]\n",
       "7    [культура, закон, сфера, концепция, проект, изменение, сообщество, услуга, учреждение, дело]\n",
       "8                    [газопровод, сирия, год, турция, газа, россия, европа, катар, поток, проект]\n",
       "9                 [участник, рф, организация, государство, область, центр, связь, фсб, март, год]\n",
       "Name: content_norm, dtype: object"
      ]
     },
     "execution_count": 446,
     "metadata": {},
     "output_type": "execute_result"
    }
   ],
   "source": [
    "data['content_norm'].apply(lambda x: [x[0] for x in Counter(x).most_common(10)]).head(10)"
   ]
  },
  {
   "cell_type": "markdown",
   "metadata": {},
   "source": [
    "Не очень значимые слова все ещё остались. Давайте попробуем отсеять стоп-слова с помощью tfidf."
   ]
  },
  {
   "cell_type": "markdown",
   "metadata": {},
   "source": [
    "Воспользуемся TfidfVectorizer."
   ]
  },
  {
   "cell_type": "code",
   "execution_count": 448,
   "metadata": {},
   "outputs": [],
   "source": [
    "data['content_norm_str'] = data['content_norm'].apply(' '.join)"
   ]
  },
  {
   "cell_type": "code",
   "execution_count": 449,
   "metadata": {},
   "outputs": [],
   "source": [
    "# можно заодно сделать нграммы\n",
    "tfidf = TfidfVectorizer(ngram_range=(1,1), min_df=3, norm = 'l1', max_df = 0.8)"
   ]
  },
  {
   "cell_type": "code",
   "execution_count": 450,
   "metadata": {},
   "outputs": [
    {
     "data": {
      "text/plain": [
       "TfidfVectorizer(analyzer='word', binary=False, decode_error='strict',\n",
       "        dtype=<class 'numpy.int64'>, encoding='utf-8', input='content',\n",
       "        lowercase=True, max_df=0.8, max_features=None, min_df=3,\n",
       "        ngram_range=(1, 1), norm='l1', preprocessor=None, smooth_idf=True,\n",
       "        stop_words=None, strip_accents=None, sublinear_tf=False,\n",
       "        token_pattern='(?u)\\\\b\\\\w\\\\w+\\\\b', tokenizer=None, use_idf=True,\n",
       "        vocabulary=None)"
      ]
     },
     "execution_count": 450,
     "metadata": {},
     "output_type": "execute_result"
    }
   ],
   "source": [
    "tfidf.fit(data['content_norm_str'])"
   ]
  },
  {
   "cell_type": "code",
   "execution_count": 451,
   "metadata": {},
   "outputs": [],
   "source": [
    "id2word = {i:word for i,word in enumerate(tfidf.get_feature_names())}"
   ]
  },
  {
   "cell_type": "markdown",
   "metadata": {},
   "source": [
    "Преобразуем наши тексты в векторы, где на позиции i стоит tfidf коэффициент слова i из словаря."
   ]
  },
  {
   "cell_type": "code",
   "execution_count": 452,
   "metadata": {},
   "outputs": [],
   "source": [
    "texts_vectors = tfidf.transform(data['content_norm_str'])"
   ]
  },
  {
   "cell_type": "code",
   "execution_count": 453,
   "metadata": {},
   "outputs": [
    {
     "data": {
      "text/plain": [
       "8037"
      ]
     },
     "execution_count": 453,
     "metadata": {},
     "output_type": "execute_result"
    }
   ],
   "source": [
    "len(id2word)"
   ]
  },
  {
   "cell_type": "markdown",
   "metadata": {},
   "source": [
    "Отсортируем векторы текстов по этим коэффициентам и возьмем топ-10."
   ]
  },
  {
   "cell_type": "code",
   "execution_count": 454,
   "metadata": {},
   "outputs": [],
   "source": [
    "# сортировка по убыванию, поэтому нужно развернуть список\n",
    "keywords = [[id2word[w] for w in top] for top in texts_vectors.toarray().argsort()[:,:-11:-1]] "
   ]
  },
  {
   "cell_type": "markdown",
   "metadata": {},
   "source": [
    "word2idf - нужны индексы для rutermextractor и других попыток побить бейзлайн"
   ]
  },
  {
   "cell_type": "code",
   "execution_count": 455,
   "metadata": {},
   "outputs": [],
   "source": [
    "word2idf_ = {i:j for i,j in list(zip(list(id2word.values()),list(tfidf.idf_))) }"
   ]
  },
  {
   "cell_type": "code",
   "execution_count": 456,
   "metadata": {},
   "outputs": [
    {
     "data": {
      "text/plain": [
       "[('10', 5.509860006183766),\n",
       " ('100', 5.199705077879927),\n",
       " ('11', 5.605170185988092),\n",
       " ('115', 6.521460917862246),\n",
       " ('12', 6.115995809754082),\n",
       " ('120', 6.521460917862246),\n",
       " ('13', 5.605170185988092),\n",
       " ('14', 6.115995809754082),\n",
       " ('15', 5.710530701645918),\n",
       " ('150', 6.115995809754082)]"
      ]
     },
     "execution_count": 456,
     "metadata": {},
     "output_type": "execute_result"
    }
   ],
   "source": [
    "list(word2idf_.items())[:10]"
   ]
  },
  {
   "cell_type": "code",
   "execution_count": 458,
   "metadata": {},
   "outputs": [
    {
     "name": "stdout",
     "output_type": "stream",
     "text": [
      "Precision -  0.13\n",
      "Recall -  0.25\n",
      "F1 -  0.16\n",
      "Jaccard -  0.09\n"
     ]
    }
   ],
   "source": [
    "evaluate(data['keywords'], keywords)"
   ]
  },
  {
   "cell_type": "markdown",
   "metadata": {},
   "source": [
    "Результат ещё немного улучшился. Немного подросла точность. Теперь вместо стоп-слов в ключевые попадают имена и все такое. Иногда это хорощо, а иногда нет (собянин - может быть ключевым словом, а дарья - вряд ли)"
   ]
  },
  {
   "cell_type": "markdown",
   "metadata": {},
   "source": [
    "Возьмем этот результат за baseline. "
   ]
  },
  {
   "cell_type": "markdown",
   "metadata": {},
   "source": [
    "Precision -  0.13\n",
    "Recall -  0.24\n",
    "F1 -  0.16\n",
    "Jaccard -  0.09"
   ]
  },
  {
   "cell_type": "markdown",
   "metadata": {},
   "source": [
    "## Попробуем графы!"
   ]
  },
  {
   "cell_type": "markdown",
   "metadata": {},
   "source": [
    "Большая часть методов для извлечения ключевых слов основана на применении графов. Основная идея - каким-то образом перевести текст в граф, а затем каким-то образом расчитать важность каждого узла и вывести топ-N самых важных узлов.  \n",
    "\n",
    "Перевод текста в граф -  не тривиальная задача. Часто применяют такой подход - построим матрицу совстречаемости слов (в каком-то окне), эта матрица будет нашей матрицей смежности."
   ]
  },
  {
   "cell_type": "markdown",
   "metadata": {},
   "source": [
    "Для выбора важных узлов часто используют простой randow walk. Алгоритм примерно такой:  \n",
    "1) Каким-то образом выбирается первый узел графа (например, случайно из равномерного распределения)  \n",
    "2) на основе связей этого узла с другими, выбирается следующий узел  \n",
    "3) шаг два повторяется некоторое количество раз (например, тысячу) __*чтобы не зацикливаться, с какой-то вероятностью мы случайно перескакиваем на другой узел (даже если он никак не связан с текущим, как в шаге 1)__  \n",
    "5) на каждом шаге мы сохраняем узел в котором находимся  \n",
    "6) в конце мы считаем в каких узлах мы были чаще всего и выводим top-N  \n",
    "\n",
    "\n",
    "Предполагается, что мы часто будем приходить в важные узлы графа."
   ]
  },
  {
   "cell_type": "code",
   "execution_count": 73,
   "metadata": {},
   "outputs": [],
   "source": [
    "from itertools import combinations"
   ]
  },
  {
   "cell_type": "markdown",
   "metadata": {},
   "source": [
    "Для наглядности реализуем этот подход без networkx. "
   ]
  },
  {
   "cell_type": "code",
   "execution_count": 74,
   "metadata": {},
   "outputs": [],
   "source": [
    "def get_kws(text, top=5, window_size=5, random_p=0.1):\n",
    "\n",
    "    vocab = set(text)\n",
    "    word2id = {w:i for i, w in enumerate(vocab)}\n",
    "    id2word = {i:w for i, w in enumerate(vocab)}\n",
    "    # преобразуем слова в индексы для удобства\n",
    "    ids = [word2id[word] for word in text]\n",
    "\n",
    "    # создадим матрицу совстречаемости\n",
    "    m = np.zeros((len(vocab), len(vocab)))\n",
    "\n",
    "    # пройдемся окном по всему тексту\n",
    "    for i in range(0, len(ids), window_size):\n",
    "        window = ids[i:i+window_size]\n",
    "        # добавим единичку всем парам слов в этом окне\n",
    "        for j, k in combinations(window, 2):\n",
    "            # чтобы граф был ненаправленный \n",
    "            m[j][k] += 1\n",
    "            m[k][j] += 1\n",
    "    \n",
    "    # нормализуем строки, чтобы получилась вероятность перехода\n",
    "    for i in range(m.shape[0]):\n",
    "        m[i] /= np.sum(m[i])\n",
    "    \n",
    "    # случайно выберем первое слова, а затем будет выбирать на основе полученых распределений\n",
    "    # сделаем так 5 раз и добавим каждое слово в счетчик\n",
    "    # чтобы не забиться в одном круге, иногда будет перескакивать на случайное слово\n",
    "    \n",
    "    c = Counter()\n",
    "    # начнем с абсолютного случайно выбранного элемента\n",
    "    n = np.random.choice(len(vocab))\n",
    "    for i in range(500): # если долго считается, можно уменьшить число проходов\n",
    "        \n",
    "        # c вероятностью random_p \n",
    "        # перескакиваем на другой узел\n",
    "        go_random = np.random.choice([0, 1], p=[1-random_p, random_p])\n",
    "        if go_random:\n",
    "            n = np.random.choice(len(vocab))\n",
    "        \n",
    "        n = take_step(n, m)\n",
    "        # записываем узлы, в которых были\n",
    "        c.update([n])\n",
    "    \n",
    "    # вернем топ-N наиболее часто встретившихся сл\n",
    "    return [id2word[i] for i, count in c.most_common(top)]\n",
    "\n",
    "def take_step(n, matrix):\n",
    "    rang = len(matrix[n])\n",
    "    # выбираем узел из заданного интервала, на основе распределения из матрицы совстречаемости\n",
    "    next_n = np.random.choice(range(rang), p=matrix[n])\n",
    "    return next_n\n",
    "    \n"
   ]
  },
  {
   "cell_type": "code",
   "execution_count": 75,
   "metadata": {},
   "outputs": [
    {
     "name": "stdout",
     "output_type": "stream",
     "text": [
      "Wall time: 42.3 s\n"
     ]
    }
   ],
   "source": [
    "%%time\n",
    "keywords_rw = data['content_norm'].apply(lambda x: get_kws(x, 10, 10))"
   ]
  },
  {
   "cell_type": "code",
   "execution_count": 76,
   "metadata": {},
   "outputs": [
    {
     "name": "stdout",
     "output_type": "stream",
     "text": [
      "Precision -  0.11\n",
      "Recall -  0.21\n",
      "F1 -  0.14\n",
      "Jaccard -  0.08\n"
     ]
    }
   ],
   "source": [
    "evaluate(data['keywords'], keywords_rw)"
   ]
  },
  {
   "cell_type": "code",
   "execution_count": 77,
   "metadata": {},
   "outputs": [
    {
     "data": {
      "text/plain": [
       "0         [яблоко, деятельность, год, активист, выборы, женщина, борьба, акция, право, рамка]\n",
       "1             [газа, миллиард, газпром, год, метр, куб, население, внедрение, добыча, страна]\n",
       "2         [год, книга, россия, роман, жанр, москва, мениппея, стихотворение, читатель, герой]\n",
       "3        [ким, зинаида, документ, владивосток, срок, год, приморье, адвокат, свобода, монтаж]\n",
       "4           [год, территория, площадь, москва, парк, га, земля, столица, тинао, пространство]\n",
       "5                  [гонка, позиция, команда, бокс, место, чемпионат, этап, мир, машина, круг]\n",
       "6          [место, рф, влияние, глава, президент, позиция, сергей, политолог, регион, россия]\n",
       "7       [культура, закон, изменение, дело, акт, сфера, концепция, союз, первое, председатель]\n",
       "8                [газопровод, катар, год, сирия, военный, россия, поток, газ, проект, турция]\n",
       "9    [участник, организация, рф, сирия, исламист, округа, эмиссар, житель, прошедшее, ячейка]\n",
       "Name: content_norm, dtype: object"
      ]
     },
     "execution_count": 77,
     "metadata": {},
     "output_type": "execute_result"
    }
   ],
   "source": [
    "keywords_rw.head(10)"
   ]
  },
  {
   "cell_type": "markdown",
   "metadata": {},
   "source": [
    "Попбруем теперь важность считать с помощью какой-нибудь метрики из networkx."
   ]
  },
  {
   "cell_type": "code",
   "execution_count": 78,
   "metadata": {},
   "outputs": [],
   "source": [
    "import networkx as nx"
   ]
  },
  {
   "cell_type": "code",
   "execution_count": 79,
   "metadata": {},
   "outputs": [],
   "source": [
    "def build_matrix(text, window_size=5):\n",
    "    vocab = set(text)\n",
    "    word2id = {w:i for i, w in enumerate(vocab)}\n",
    "    id2word = {i:w for i, w in enumerate(vocab)}\n",
    "    # преобразуем слова в индексы для удобства\n",
    "    ids = [word2id[word] for word in text]\n",
    "\n",
    "    # создадим матрицу совстречаемости\n",
    "    m = np.zeros((len(vocab), len(vocab)))\n",
    "\n",
    "    # пройдемся окном по всему тексту\n",
    "    for i in range(0, len(ids), window_size):\n",
    "        window = ids[i:i+window_size]\n",
    "        # добавим единичку всем парам слов в этом окне\n",
    "        for j, k in combinations(window, 2):\n",
    "            # чтобы граф был ненаправленный \n",
    "            m[j][k] += 1\n",
    "            m[k][j] += 1\n",
    "    \n",
    "    return m, id2word\n",
    "\n",
    "def some_centrality_measure(text, window_size=5, topn=5):\n",
    "    \n",
    "    matrix, id2word = build_matrix(text, window_size)\n",
    "    G = nx.from_numpy_array(matrix)\n",
    "    # тут можно поставить любую метрику\n",
    "    node2measure = dict(nx.pagerank(G))\n",
    "    \n",
    "    return [id2word[index] for index,measure in sorted(node2measure.items(), key=lambda x: -x[1])[:topn]]"
   ]
  },
  {
   "cell_type": "code",
   "execution_count": 80,
   "metadata": {},
   "outputs": [
    {
     "name": "stdout",
     "output_type": "stream",
     "text": [
      "Wall time: 1min 53s\n"
     ]
    }
   ],
   "source": [
    "%%time\n",
    "keyword_nx = data['content_norm'].apply(lambda x: some_centrality_measure(x, 10, 10))"
   ]
  },
  {
   "cell_type": "code",
   "execution_count": 81,
   "metadata": {},
   "outputs": [
    {
     "name": "stdout",
     "output_type": "stream",
     "text": [
      "Precision -  0.12\n",
      "Recall -  0.24\n",
      "F1 -  0.15\n",
      "Jaccard -  0.09\n"
     ]
    }
   ],
   "source": [
    "evaluate(data['keywords'], keyword_nx)"
   ]
  },
  {
   "cell_type": "markdown",
   "metadata": {},
   "source": [
    "Результаты не превосходят tfidf, но и не сильно уступают. Явно можно что-то доработать и превзойти baseline."
   ]
  },
  {
   "cell_type": "markdown",
   "metadata": {},
   "source": [
    "Готовое решение есть в gensim. Давайте попробуем его."
   ]
  },
  {
   "cell_type": "code",
   "execution_count": 83,
   "metadata": {},
   "outputs": [],
   "source": [
    "from gensim.summarization import keywords"
   ]
  },
  {
   "cell_type": "code",
   "execution_count": 84,
   "metadata": {},
   "outputs": [],
   "source": [
    "gensim_kws = data['content_norm'].apply(lambda x: keywords(' '.join(x)).split('\\n')[:10])"
   ]
  },
  {
   "cell_type": "code",
   "execution_count": 85,
   "metadata": {
    "scrolled": true
   },
   "outputs": [
    {
     "name": "stdout",
     "output_type": "stream",
     "text": [
      "Precision -  0.06\n",
      "Recall -  0.11\n",
      "F1 -  0.08\n",
      "Jaccard -  0.04\n"
     ]
    }
   ],
   "source": [
    "evaluate(data['keywords'], gensim_kws)"
   ]
  },
  {
   "cell_type": "markdown",
   "metadata": {},
   "source": [
    "## Эксперименты"
   ]
  },
  {
   "cell_type": "markdown",
   "metadata": {},
   "source": [
    "## rutermextract"
   ]
  },
  {
   "cell_type": "raw",
   "metadata": {},
   "source": [
    "!pip install rutermextract"
   ]
  },
  {
   "cell_type": "code",
   "execution_count": 382,
   "metadata": {},
   "outputs": [],
   "source": [
    "def normalize_tag(text):\n",
    "    \n",
    "    words = [word.strip(punct) for word in text.lower().split()]\n",
    "    words = [morph.parse(word)[0] for word in words if word and word not in stops]\n",
    "    words = [word.normal_form for word in words if word.tag.POS in ['NOUN',\"ADJF\", 'ADJS', 'VERB', 'INFN', 'PRTF', 'PRTS']]\n",
    "\n",
    "    return ' '.join(words)\n",
    "\n",
    "def normalize_kw_tag(words):\n",
    "    words = [morph.parse(word)[0] for word in words if word and word not in stops]\n",
    "    words = [word.normal_form for word in words if word.tag.POS in ['NOUN',\"ADJF\", 'ADJS', 'VERB', 'INFN', 'PRTF', 'PRTS']]\n",
    "\n",
    "    return words\n",
    "\n",
    "def normalize_kw_orig(words):\n",
    "    words = ' '.join(words).split(' ')\n",
    "    words = [morph.parse(word)[0] for word in words if word and word not in stops]\n",
    "    words = [word.normal_form for word in words]\n",
    "\n",
    "    return words"
   ]
  },
  {
   "cell_type": "code",
   "execution_count": 383,
   "metadata": {},
   "outputs": [],
   "source": [
    "data['keywords_norm'] = data.keywords.apply(normalize_kw_orig)"
   ]
  },
  {
   "cell_type": "code",
   "execution_count": 413,
   "metadata": {},
   "outputs": [
    {
     "name": "stderr",
     "output_type": "stream",
     "text": [
      "C:\\ProgramData\\Anaconda3\\lib\\re.py:212: FutureWarning: split() requires a non-empty pattern match.\n",
      "  return _compile(pattern, flags).split(string, maxsplit)\n"
     ]
    }
   ],
   "source": [
    "from rutermextract import TermExtractor\n",
    "term_extractor = TermExtractor()\n",
    "\n",
    "def rutermextr(text):\n",
    "    key_te = []\n",
    "    for term in term_extractor(text, limit = 20, nested = True, weight=lambda term: word2idf_.get(term.normalized, 1.0) * term.count):\n",
    "        key_te.append(term.normalized)\n",
    "    #return list(set(' '.join(key_te).split(' ')))\n",
    "    return key_te\n",
    "\n",
    "data['keywords_te_new'] = data.content_norm_str.apply(rutermextr)"
   ]
  },
  {
   "cell_type": "code",
   "execution_count": 414,
   "metadata": {},
   "outputs": [],
   "source": [
    "data.keywords_te_new = data.keywords_te_new.apply(normalize_kw_tag)"
   ]
  },
  {
   "cell_type": "code",
   "execution_count": 415,
   "metadata": {},
   "outputs": [
    {
     "name": "stdout",
     "output_type": "stream",
     "text": [
      "Precision -  0.14\n",
      "Recall -  0.43\n",
      "F1 -  0.2\n",
      "Jaccard -  0.11\n"
     ]
    }
   ],
   "source": [
    "evaluate(data.keywords_norm, data.keywords_te_new)"
   ]
  },
  {
   "cell_type": "code",
   "execution_count": 416,
   "metadata": {},
   "outputs": [],
   "source": [
    "data['content_nt'] = data.content.apply(normalize_tag)"
   ]
  },
  {
   "cell_type": "code",
   "execution_count": 417,
   "metadata": {},
   "outputs": [
    {
     "data": {
      "text/plain": [
       "TfidfVectorizer(analyzer='word', binary=False, decode_error='strict',\n",
       "        dtype=<class 'numpy.int64'>, encoding='utf-8', input='content',\n",
       "        lowercase=True, max_df=1.0, max_features=None, min_df=3,\n",
       "        ngram_range=(1, 1), norm='l2', preprocessor=None, smooth_idf=True,\n",
       "        stop_words=None, strip_accents=None, sublinear_tf=False,\n",
       "        token_pattern='(?u)\\\\b\\\\w\\\\w+\\\\b', tokenizer=None, use_idf=True,\n",
       "        vocabulary=None)"
      ]
     },
     "execution_count": 417,
     "metadata": {},
     "output_type": "execute_result"
    }
   ],
   "source": [
    "tfidf.fit(data['content_nt'])"
   ]
  },
  {
   "cell_type": "code",
   "execution_count": 418,
   "metadata": {
    "scrolled": true
   },
   "outputs": [
    {
     "name": "stderr",
     "output_type": "stream",
     "text": [
      "C:\\ProgramData\\Anaconda3\\lib\\re.py:212: FutureWarning: split() requires a non-empty pattern match.\n",
      "  return _compile(pattern, flags).split(string, maxsplit)\n"
     ]
    }
   ],
   "source": [
    "data['keywords_te_new'] = data.content_nt.apply(rutermextr)\n",
    "data['keywords_nt'] = data.keywords_te_new.apply(normalize_kw_tag)"
   ]
  },
  {
   "cell_type": "code",
   "execution_count": 419,
   "metadata": {},
   "outputs": [
    {
     "name": "stdout",
     "output_type": "stream",
     "text": [
      "Precision -  0.14\n",
      "Recall -  0.43\n",
      "F1 -  0.2\n",
      "Jaccard -  0.11\n"
     ]
    }
   ],
   "source": [
    "evaluate(data.keywords_norm, data.keywords_nt)"
   ]
  },
  {
   "cell_type": "markdown",
   "metadata": {},
   "source": [
    "## Rake"
   ]
  },
  {
   "cell_type": "code",
   "execution_count": 421,
   "metadata": {},
   "outputs": [],
   "source": [
    "from rake_nltk import Metric, Rake\n",
    "\n",
    "r = Rake(language = 'russian', min_length = 1, max_length = 1)\n",
    "\n",
    "def rake_key(text):\n",
    "    key_words = []\n",
    "    r.extract_keywords_from_text(text)\n",
    "    return r.get_ranked_phrases()\n",
    "\n",
    "data['keywords_rake'] = data.content_norm_str.apply(rake_key)"
   ]
  },
  {
   "cell_type": "code",
   "execution_count": 423,
   "metadata": {},
   "outputs": [
    {
     "name": "stdout",
     "output_type": "stream",
     "text": [
      "Precision -  0.01\n",
      "Recall -  0.0\n",
      "F1 -  0.0\n",
      "Jaccard -  0.0\n"
     ]
    }
   ],
   "source": [
    "evaluate(data.keywords_norm, data.keywords_rake)"
   ]
  },
  {
   "cell_type": "markdown",
   "metadata": {},
   "source": [
    "## Yake"
   ]
  },
  {
   "cell_type": "code",
   "execution_count": 406,
   "metadata": {},
   "outputs": [],
   "source": [
    "import yake"
   ]
  },
  {
   "cell_type": "code",
   "execution_count": 407,
   "metadata": {},
   "outputs": [],
   "source": [
    "def yake_key(text):\n",
    "    custom_kwextractor = yake.KeywordExtractor(lan=\"ru\", n = 1, dedupLim=0.8, windowsSize=2, top=20)\n",
    "    keywords = custom_kwextractor.extract_keywords(text)\n",
    "    #custom_kwextractor = yake.KeywordExtractor(lan=\"ru\", n = 2, windowsSize=3, top=10)\n",
    "    #keywords_2 = custom_kwextractor.extract_keywords(text)\n",
    "    #keywords = keywords_1 + keywords_2\n",
    "    return [i[1] for i in keywords]\n",
    "    \n",
    "data['keywords_yake'] = data.content_norm_str.apply(yake_key)"
   ]
  },
  {
   "cell_type": "code",
   "execution_count": 409,
   "metadata": {},
   "outputs": [
    {
     "name": "stdout",
     "output_type": "stream",
     "text": [
      "Precision -  0.14\n",
      "Recall -  0.45\n",
      "F1 -  0.2\n",
      "Jaccard -  0.12\n"
     ]
    }
   ],
   "source": [
    "evaluate(data.keywords_norm, data.keywords_yake)"
   ]
  },
  {
   "cell_type": "code",
   "execution_count": 410,
   "metadata": {},
   "outputs": [],
   "source": [
    "data['keywords_yake_pos'] = data.keywords_yake.apply(normalize_kw_tag)"
   ]
  },
  {
   "cell_type": "code",
   "execution_count": 424,
   "metadata": {},
   "outputs": [
    {
     "name": "stdout",
     "output_type": "stream",
     "text": [
      "Precision -  0.09\n",
      "Recall -  0.56\n",
      "F1 -  0.16\n",
      "Jaccard -  0.09\n"
     ]
    }
   ],
   "source": [
    "evaluate(data.keywords_norm, data.keywords_yake_pos)"
   ]
  },
  {
   "cell_type": "markdown",
   "metadata": {},
   "source": [
    "## Topic Rank"
   ]
  },
  {
   "cell_type": "code",
   "execution_count": 470,
   "metadata": {},
   "outputs": [
    {
     "name": "stdout",
     "output_type": "stream",
     "text": [
      "Collecting summa\n",
      "  Downloading https://files.pythonhosted.org/packages/45/3b/1c7dc435d05aef474c4137328400f1e11787b9bffab1f87a3f160c1fef54/summa-1.2.0.tar.gz (54kB)\n",
      "Requirement already satisfied: scipy>=0.19 in c:\\users\\estiu\\appdata\\roaming\\python\\python36\\site-packages (from summa) (1.0.0)\n",
      "Requirement already satisfied: numpy>=1.8.2 in c:\\users\\estiu\\appdata\\roaming\\python\\python36\\site-packages (from scipy>=0.19->summa) (1.14.1)\n",
      "Building wheels for collected packages: summa\n",
      "  Building wheel for summa (setup.py): started\n",
      "  Building wheel for summa (setup.py): finished with status 'done'\n",
      "  Stored in directory: C:\\Users\\estiu\\AppData\\Local\\pip\\Cache\\wheels\\6a\\09\\68\\e2f2861c01d86407c3fa5220826ed7eed2abaa56b001be5970\n",
      "Successfully built summa\n",
      "Installing collected packages: summa\n",
      "Successfully installed summa-1.2.0\n"
     ]
    }
   ],
   "source": [
    "!pip install summa"
   ]
  },
  {
   "cell_type": "code",
   "execution_count": 501,
   "metadata": {},
   "outputs": [],
   "source": [
    "from summa import keywords\n",
    "\n",
    "def textrank_kw(text):\n",
    "    kw = []\n",
    "    kw = keywords.keywords(text, words = 10).split('\\n')\n",
    "    kw = ' '.join(kw).split(' ')\n",
    "    return kw\n",
    "\n",
    "data['keywords_tr'] = data.content_nt.apply(textrank_kw)"
   ]
  },
  {
   "cell_type": "code",
   "execution_count": 502,
   "metadata": {},
   "outputs": [],
   "source": [
    "data['keywords_tr_pos'] = data.keywords_tr.apply(normalize_kw_tag)"
   ]
  },
  {
   "cell_type": "code",
   "execution_count": 503,
   "metadata": {},
   "outputs": [
    {
     "data": {
      "text/html": [
       "<div>\n",
       "<style scoped>\n",
       "    .dataframe tbody tr th:only-of-type {\n",
       "        vertical-align: middle;\n",
       "    }\n",
       "\n",
       "    .dataframe tbody tr th {\n",
       "        vertical-align: top;\n",
       "    }\n",
       "\n",
       "    .dataframe thead th {\n",
       "        text-align: right;\n",
       "    }\n",
       "</style>\n",
       "<table border=\"1\" class=\"dataframe\">\n",
       "  <thead>\n",
       "    <tr style=\"text-align: right;\">\n",
       "      <th></th>\n",
       "      <th>content</th>\n",
       "      <th>keywords</th>\n",
       "      <th>summary</th>\n",
       "      <th>title</th>\n",
       "      <th>url</th>\n",
       "      <th>content_norm</th>\n",
       "      <th>title_norm</th>\n",
       "      <th>content_norm_str</th>\n",
       "      <th>keywords_te_new</th>\n",
       "      <th>content_nt</th>\n",
       "      <th>keywords_nt</th>\n",
       "      <th>keywords_rake</th>\n",
       "      <th>keywords_yake</th>\n",
       "      <th>keywords_yake_pos</th>\n",
       "      <th>keywords_norm</th>\n",
       "      <th>keywords_tr</th>\n",
       "      <th>keywords_tr_pos</th>\n",
       "    </tr>\n",
       "  </thead>\n",
       "  <tbody>\n",
       "    <tr>\n",
       "      <th>0</th>\n",
       "      <td>Многие интересуются, зачем нужна «Яблоку» молодежная фракция? Основной задачей «Молодежного «Яблока» является привлечение молодых людей к участию в выборах и деятельности партии. «Молодежное «Яблоко» работает более чем в 10 регионах. Единого руководства у нас нет, но мы стараемся координировать свою деятельность и периодически проводим акции на федеральном уровне.\\nМы ведем борьбу с обязательным воинским призывом. Военный – это профессия, а не обязанность. Молодые люди вправе сами распоряжаться своей жизнью и не терять целый год, отдавая государству «долг», который они у него не занимали. По мнению одного из ведущих специалистов в области оборонной политики Алексея Арбатова, переход на контрактную армию будет стоить лишь 2% военного бюджета.\\nТакже на федеральном уровне «Молодежное «Яблоко» проводило акции за освобождение политзаключенных и против вмешательства России во внутреннюю политику Украины.\\nРасскажу о московских активистах. Виктору Петрунину – 19 лет, он пришел к нам боль...</td>\n",
       "      <td>[яблоко, молодежь, молодежное яблоко]</td>\n",
       "      <td></td>\n",
       "      <td>\"Молодежное \"Яблоко\": оппозиционная деятельность становится опасной</td>\n",
       "      <td>http://www.ng.ru/ng_politics/2017-04-18/11_6976_apple.html</td>\n",
       "      <td>[яблоко, фракция, задача, яблоко, привлечение, молодая, человек, участие, выборы, деятельность, партия, яблоко, регион, руководство, деятельность, акция, уровень, борьба, призыв, военный, профессия, обязанность, молодая, человек, жизнь, год, государство, долг, мнение, специалист, область, политика, алексей, арбатов, переход, армия, военный, бюджет, уровень, яблоко, акция, освобождение, политзаключённый, вмешательство, россия, политика, украина, активист, виктор, петрунин, год, год, москва, семья, взгляд, виктор, детство, политика, виктор, власть, крым, война, украина, убийство, борис, немцов, сторона, школа, сила, смена, власть, россия, дарья, новичкова, влияние, преподаватель, обществознание, ситуация, страна, искренность, заинтересованность, вопрос, дарья, материал, сми, время, наблюдение, позиция, образ, команда, единомышленник, пример, ровесник, дарья, яблоко, яблоко, клуб, рамка, лекция, кинопоказ, ...]</td>\n",
       "      <td>[молодёжный, яблоко, оппозиционный, деятельность, становиться, опасный]</td>\n",
       "      <td>яблоко фракция задача яблоко привлечение молодая человек участие выборы деятельность партия яблоко регион руководство деятельность акция уровень борьба призыв военный профессия обязанность молодая человек жизнь год государство долг мнение специалист область политика алексей арбатов переход армия военный бюджет уровень яблоко акция освобождение политзаключённый вмешательство россия политика украина активист виктор петрунин год год москва семья взгляд виктор детство политика виктор власть крым война украина убийство борис немцов сторона школа сила смена власть россия дарья новичкова влияние преподаватель обществознание ситуация страна искренность заинтересованность вопрос дарья материал сми время наблюдение позиция образ команда единомышленник пример ровесник дарья яблоко яблоко клуб рамка лекция кинопоказ тема наступление консерватизм обсуждение альтернатива ситуация экономика участник стол мероприятие место дискуссия участие люба гость яблоко повестка ноябрь прошлое год карелия акц...</td>\n",
       "      <td>[яблоко, активист, акция, дарья, деятельность, молодая, политика, виктор, выборы, силовик, репрессия, тимур, молодёжный яблоко, год, насилие, убийство, освобождение, отделение, власть, молодёжь]</td>\n",
       "      <td>интересоваться нужный яблоко молодёжный фракция основной задача молодёжный яблоко являться привлечение молодая человек участие выборы деятельность партия молодёжный яблоко работать регион единый руководство стараться координировать деятельность проводить акция федеральный уровень вести борьба обязательный воинский призыв военный профессия обязанность молодая человек сам распоряжаться свой жизнь терять целый год государство долг который занимать мнение один ведущий специалист область оборонный политика алексей арбатов переход контрактный армия стоить военный бюджет федеральный уровень молодёжный яблоко проводить акция освобождение политзаключённый вмешательство россия внутренний политика украина рассказать московский активист виктор петрунин год прийти год переехать москва весь семья придерживаться демократический взгляд виктор ранний детство интересовать политика виктор относиться власть крым война украина убийство борис немцов понять оставаться сторона школа решить должный присоед...</td>\n",
       "      <td>[яблоко, активист, акция, дарья, деятельность, молодая, политика, виктор, выбор, силовик, репрессия, тимур, молодёжный яблоко, год, насилие, убийство, освобождение, отделение, власть, молодёжь]</td>\n",
       "      <td>[]</td>\n",
       "      <td>[яблоко, акция, активист, деятельность, политика, власть, молодая, задача, дарья, выборы, уровень, россия, виктор, освобождение, март, участие, партия, регион, борьба, военный]</td>\n",
       "      <td>[яблоко, акция, активист, деятельность, политика, власть, молодая, задача, дарья, выбор, уровень, россия, виктор, освобождение, март, участие, партия, регион, борьба, военный]</td>\n",
       "      <td>[яблоко, молодёжь, молодёжный, яблоко]</td>\n",
       "      <td>[который, год, яблоко, молодёжный, акция, активист, политика, деятельность, наш, власть]</td>\n",
       "      <td>[год, яблоко, молодёжный, акция, активист, политика, деятельность, власть]</td>\n",
       "    </tr>\n",
       "    <tr>\n",
       "      <th>1</th>\n",
       "      <td>Вчера «Газпром» снизил верхнюю планку прогноза собственной добычи газа в 2020 году. Через 12 лет концерн собирается добывать около 620–640 млрд. куб. м в год. При этом общее производство газа в стране, по расчетам холдинга, должно достичь 940 млрд. куб. м. Иными словами, треть добываемого объема, по мнению холдинга, должны будут обеспечить независимые производители. Эксперты не верят, что независимые компании смогут выйти на такие объемы добычи. Если расчеты «Газпрома» не оправдаются, то под ударом окажутся отечественные предприятия и население, которым придется сокращать потребление и смириться с новым витком цен. Иных путей покрытия возможного дефицита газа нет, так как вряд ли холдинг разорвет уже заключенные контракты на экспорт газа в другие страны. \\n«Газпром» к 2020 году планирует добывать 620–640 млрд. куб. м газа, сообщил вчера на форуме «ТЭК России в ХХI веке» глава управления по добыче газа, газового конденсата и нефти холдинга Валерий Минликаев. Тем самым он уточнил пре...</td>\n",
       "      <td>[газпром, газ]</td>\n",
       "      <td></td>\n",
       "      <td>\"Газпрома\" на всех не хватит</td>\n",
       "      <td>http://www.ng.ru/economics/2008-04-03/1_gazprom.html</td>\n",
       "      <td>[газпром, планка, прогноз, добыча, газа, год, год, концерн, миллиард, куб, год, производство, газа, страна, расчёт, холдинг, миллиард, куб, слово, треть, объём, мнение, холдинг, производитель, эксперт, компания, объём, добыча, расчёт, газпром, удар, предприятие, население, потребление, виток, цена, путь, покрытие, дефицит, газа, холдинг, заключённый, контракт, экспорт, газа, страна, газпром, год, миллиард, куб, газа, форум, тэк, россия, век, глава, управление, добыча, газа, конденсат, нефть, холдинг, валерий, минликай, прогноз, добыча, газа, прошлое, год, зампред, правление, концерн, александр, ананенков, слово, ананенков, газпром, год, миллиард, куб, год, прогноз, газпром, стратегия, правительство, добыча, газа, холдинг, представление, минпромэнерго, минэкономразвития, добыча, газа, россия, год, уровень, миллиард, куб, слово, минликаев, ...]</td>\n",
       "      <td>[газпром, хватить]</td>\n",
       "      <td>газпром планка прогноз добыча газа год год концерн миллиард куб год производство газа страна расчёт холдинг миллиард куб слово треть объём мнение холдинг производитель эксперт компания объём добыча расчёт газпром удар предприятие население потребление виток цена путь покрытие дефицит газа холдинг заключённый контракт экспорт газа страна газпром год миллиард куб газа форум тэк россия век глава управление добыча газа конденсат нефть холдинг валерий минликай прогноз добыча газа прошлое год зампред правление концерн александр ананенков слово ананенков газпром год миллиард куб год прогноз газпром стратегия правительство добыча газа холдинг представление минпромэнерго минэкономразвития добыча газа россия год уровень миллиард куб слово минликаев год добыча газа россия миллиард куб расчёт газпром миллиард куб половина треть год добыча производитель счёт газпром рука месторождение страна мнение эксперт заявление представитель газпром сторона отход прогноз план итог год концерн миллиард куб ...</td>\n",
       "      <td>[куб, газпром, газа, миллиард, добыча, метр, холдинг, производитель, прогноз, год, потребление, расчёт, кубометр, аналитик, концерн, объём, месторождение, цена, монополист, экспорт]</td>\n",
       "      <td>газпром снизить верхний планка прогноз собственный добыча газа год год концерн собираться добывать миллиард куб метр год общий производство газа страна расчёт холдинг должный достигнуть миллиард куб метр иной слово треть добывать объём мнение холдинг должный быть обеспечить независимый производитель эксперт верить независимый компания смочь выйти такой объём добыча расчёт газпром оправдаться удар оказаться отечественный предприятие население который прийтись сокращать потребление смириться новый виток цена иной путь покрытие возможный дефицит газа холдинг разорвать заключённый контракт экспорт газа другой страна газпром год планировать добывать миллиард куб метр газа сообщить форум тэк россия век глава управление добыча газа газовый конденсат нефть холдинг валерий минликай самый уточнить предыдущий прогноз добыча газа который озвучить прошлое год зампред правление концерн александр ананенков слово ананенков газпром должный добывать год миллиард куб метр год предыдущий нынешний прог...</td>\n",
       "      <td>[куб, газпром, газа, миллиард, добыча, метр, холдинг, производитель, прогноз, год, потребление, расчёт, кубометр, аналитик, концерн, объём, месторождение, цена, монополист, экспорт]</td>\n",
       "      <td>[]</td>\n",
       "      <td>[метр, миллиард, куб, газа, газпром, добыча, производитель, страна, прогноз, холдинг, расчёт, потребление, население, цена, россия, объём, концерн, слово, кубометр, предприятие]</td>\n",
       "      <td>[метр, миллиард, куб, газа, газпром, добыча, производитель, страна, прогноз, холдинг, расчёт, потребление, население, цена, россия, объём, концерн, слово, кубометр, предприятие]</td>\n",
       "      <td>[газпром, газ]</td>\n",
       "      <td>[газпром, добыча, газа, год, миллиард, который, метр, должный, страна, внутренний]</td>\n",
       "      <td>[газпром, добыча, газа, год, миллиард, метр, должный, страна, внутренний]</td>\n",
       "    </tr>\n",
       "    <tr>\n",
       "      <th>2</th>\n",
       "      <td>Долголетний труд Евгения Витковского на ниве перевода, а также в качестве редактора и антологиста известен многим. Но не все знают его как поэта и прозаика. В этом году уже вышла составленная им и Еленой Кистеровой антология  «Раздол туманов: Страницы шотландской гэльской поэзии XVII–XX вв.», а в апреле запланирован выход его романа «Протей, или Византийский кризис» (отрывок из романа читайте на с. 12). С \\n побеседовал \\n– Одна из таких книг только что вышла – «Раздол туманов. Страницы шотландской гэльской поэзии XVII–XX веков». Это стихи 29 поэтов, все в переводе с оригинала – моем и Елены Кистеровой. Работа заняла 10 лет, включая изучение языка. Она была упоительно интересной: до нас переводов из этой поэзии на русский не было вовсе. Сейчас должен выйти том стихотворений канадского классика Роберта Уильяма Сервиса, «канадского Киплинга», около 300 стихотворений. Кроме того, в Петербурге в производстве наш огромный трехтомный плод совместной работы – антология «Франция в сердце»....</td>\n",
       "      <td>[франсуа рабле, сервантес, шекспир, конан дойл, михаил булгаков, александр грин, борхес, босх, маркес, герман гессе, голландская живопись, гаргантюа и пантагрюэль, дон кихот, мастер и маргарита, москва, россия, история, поэзия, шотландия, баллада, пере]</td>\n",
       "      <td>Евгений Витковский о том, как Босх протягивает руку Шекспиру, \\r\\nи оба танцуют в пламени пожара в охваченном чумой средневековом городе</td>\n",
       "      <td>Бесконечная партия в четырехмерные  шахматы</td>\n",
       "      <td>http://www.ng.ru/person/2018-03-22/10_927_vitkovsky.html</td>\n",
       "      <td>[труд, евгений, витковский, нива, перевод, качество, редактор, антологист, поэт, прозаик, год, елена, кистеров, антология, раздол, туманов, страница, поэзия, век, апрель, выход, роман, протей, кризис, отрывок, роман, книга, раздол, туманов, страница, поэзия, век, стих, поэт, перевод, оригинал, елена, кистеров, работа, год, изучение, язык, перевод, поэзия, стихотворение, классика, роберт, уильям, сервис, киплинга, стихотворение, петербург, производство, плод, работа, антология, франция, сердце, стихотворение, век, участник, семинар, перевод, работа, год, деньга, культура, борьба, коррупция, план, перевод, велик, комплекс, книга, сборник, классика, дидерик, йоханнес, оппермана, редактор, год, 1990-е, возможность, читатель, год, главное, редактор, издательство, год, престиж, бук, читатель, серия, рамка, книга, приключение, фантастика, детгиз, книга, серия, ...]</td>\n",
       "      <td>[бесконечный, партия, четырехмерный, шахматы]</td>\n",
       "      <td>труд евгений витковский нива перевод качество редактор антологист поэт прозаик год елена кистеров антология раздол туманов страница поэзия век апрель выход роман протей кризис отрывок роман книга раздол туманов страница поэзия век стих поэт перевод оригинал елена кистеров работа год изучение язык перевод поэзия стихотворение классика роберт уильям сервис киплинга стихотворение петербург производство плод работа антология франция сердце стихотворение век участник семинар перевод работа год деньга культура борьба коррупция план перевод велик комплекс книга сборник классика дидерик йоханнес оппермана редактор год 1990-е возможность читатель год главное редактор издательство год престиж бук читатель серия рамка книга приключение фантастика детгиз книга серия дорога тираж качество десятка сотня иллюстрация офсет переплёт книга ассортимент трёхтомник новелла александр грин произведение трилогия мариэтта шагинян месса-мёнда вид текст год роман текст газета серия собрание произведение кона...</td>\n",
       "      <td>[роман, книга, жанр, стихотворение, перевод, читатель, год, поэзия, произведение, туманов, реквием, герой, редактор, мир, рецензия, серия, страница, наследник, антология, престол]</td>\n",
       "      <td>долголетний труд евгений витковский нива перевод качество редактор антологист известный многий знать поэт прозаик год выйти составить елена кистеров антология раздол туманов страница шотландский гэльский поэзия век апрель запланировать выход роман протей византийский кризис отрывок роман читать побеседовать один такой книга выйти раздол туманов страница шотландский гэльский поэзия век стих поэт перевод оригинал мыть елена кистеров работа занять год изучение язык интересный перевод поэзия русский должный выйти стихотворение канадский классика роберт уильям сервис канадский киплинга стихотворение петербург производство наш огромный трехтомный плод совместный работа антология франция сердце стихотворение век который перевести участник семинар перевод работа занять год торопиться платить деньга культура идти борьба коррупция понять касаться мой личный план перевод велик сделать комплекс испытывать один книга сборник южноафриканский классика дидерик йоханнес оппермана сделать хотеть раб...</td>\n",
       "      <td>[роман, книга, жанр, стихотворение, перевод, читатель, год, поэзия, произведение, туманов, реквием, герой, редактор, мир, рецензия, серия, страница, наследник, антология, престол]</td>\n",
       "      <td>[метр]</td>\n",
       "      <td>[книга, роман, мир, жанр, читатель, стихотворение, перевод, поэзия, россия, москва, мениппея, работа, произведение, герой, страница, век, стих, редактор, поэт, серия]</td>\n",
       "      <td>[книга, роман, мир, жанр, читатель, стихотворение, перевод, поэзия, россия, москва, мениппея, работа, произведение, герой, страница, стихнуть, редактор, поэт, серия]</td>\n",
       "      <td>[франсуа, рабле, сервантес, шекспир, конана, дойло, михаил, булгаков, александр, грин, борхес, босха, маркес, герман, гесс, голландский, живопись, гаргантю, пантагрюэль, дон, кихот, мастер, маргарита, москва, россия, история, поэзия, шотландия, баллада, перо]</td>\n",
       "      <td>[книга, год, выйти, роман, тот, писать, один, мир, перевод, стихотворение]</td>\n",
       "      <td>[книга, год, выйти, роман, писать, мир, перевод, стихотворение]</td>\n",
       "    </tr>\n",
       "    <tr>\n",
       "      <th>3</th>\n",
       "      <td>В Ленинском районном суде продолжаются слушания по делу экс-депутата Думы Владивостока Зинаиды Ким и бывшего председателя избирательного участка № 522 Елены Футиной, которых обвиняют в сговоре и фальсификациях результатов на выборах на сентябрьских выборах 2016 года. Напомним, 18 сентября 2017 года местные журналисты сняли на видео, как Ким, будучи кандидатом по спискам в Законодательное Собрание Приморского края, выдавала молодым людям открепительные, возила их голосовать на участок, где уже знали о предстоящем визите. В качестве вознаграждения избирателям предлагалось по 500 рублей.\\nПеред началом судебного процесса Зинаида Ким разговаривала с журналистами на повышенных тонах и обзывая, доказывала, что видео – монтаж. Адвокаты представили вниманию участников процесса характеристику подсудимой, составленную руководителями Всероссийской общественной организации «Боевое братство (Приморье)», членом которого является подсудимая. Выяснилось, что у Зинаиды Ким – богатый наградной списо...</td>\n",
       "      <td>[владивосток, суд, ким, футина, выборы, боевое братство]</td>\n",
       "      <td>Фигурантке уголовного дела о фальсификации выборов в Приморье грозит до четырех лет заключения</td>\n",
       "      <td>Экс-депутат, осужденная за фальсификацию выборов, оказалась членом \"Боевого братства\"</td>\n",
       "      <td>http://www.ng.ru/regions/2018-01-10/100_vladivostok100118.html</td>\n",
       "      <td>[суд, слушание, дело, экс-депутат, дума, владивосток, зинаида, председатель, участок, елена, сговор, фальсификация, результат, выборы, выборы, год, сентябрь, год, журналист, видео, кандидат, список, собрание, край, молодая, человек, участок, визит, качество, вознаграждение, избиратель, рубль, начало, процесс, зинаида, журналист, тон, видео, монтаж, адвокат, внимание, участник, процесс, характеристика, подсудимая, руководитель, организация, братство, приморье, член, подсудимая, зинаида, список, знак, 70-летие, победа, война, 25-летие, вывод, войско, афганистан, 20-летие, мчс, ход, заседание, адвокат, алексей, клецкина, судья, экспертиза, видео, аудиозапись, процесс, качество, доказательство, вина, защитник, сомнение, подлинность, экспертиза, обвинитель, прошение, защитник, судья, позиция, представитель, прокуратура, заседание, дело, зинаида, елена, свидетель, редактор, издание, иван, федот, журналист, маргарита, бабченко, зинаида, ...]</td>\n",
       "      <td>[экс-депутат, осудить, фальсификация, выбор, оказаться, член, боевой, братство]</td>\n",
       "      <td>суд слушание дело экс-депутат дума владивосток зинаида председатель участок елена сговор фальсификация результат выборы выборы год сентябрь год журналист видео кандидат список собрание край молодая человек участок визит качество вознаграждение избиратель рубль начало процесс зинаида журналист тон видео монтаж адвокат внимание участник процесс характеристика подсудимая руководитель организация братство приморье член подсудимая зинаида список знак 70-летие победа война 25-летие вывод войско афганистан 20-летие мчс ход заседание адвокат алексей клецкина судья экспертиза видео аудиозапись процесс качество доказательство вина защитник сомнение подлинность экспертиза обвинитель прошение защитник судья позиция представитель прокуратура заседание дело зинаида елена свидетель редактор издание иван федот журналист маргарита бабченко зинаида суд журналист действие дело вознаграждение рубль иван федот ситуация разговор коллега сотрудник редакция зинаида заседание свидетель видеограф агентство ...</td>\n",
       "      <td>[ким, зинаида, видео, экспертиза, свидетель, федот, монтаж, журналист, вознаграждение, приморье, фальсификация, заседание, суд, владивосток, рубль, судья, защитник, адвокат, елена, иван]</td>\n",
       "      <td>ленинский районный суд продолжаться слушание дело экс-депутат дума владивосток зинаида ким бывший председатель избирательный участок елена футиный который обвинять сговор фальсификация результат выборы сентябрьский выборы год напомнить сентябрь год местный журналист снять видео ким кандидат список законодательный собрание приморский край выдавать молодая человек открепительный возить голосовать участок знать предстоящий визит качество вознаграждение избиратель предлагаться рубль начало судебный процесс зинаида ким разговаривать журналист повышенный тон доказывать видео монтаж адвокат представить внимание участник процесс характеристика подсудимая составить руководитель всероссийский общественный организация боевой братство приморье член который являться подсудимая выясниться зинаида ким богатый наградной список памятный знак 70-летие победа великий отечественный война 25-летие вывод советский войско афганистан 20-летие мчс другой ход заседание адвокат алексей клецкина попросить суд...</td>\n",
       "      <td>[ким, зинаида, видео, экспертиза, свидетель, федот, монтаж, журналист, вознаграждение, приморье, фальсификация, заседание, суд, владивосток, рубль, судья, защитник, адвокат, елена, иван]</td>\n",
       "      <td>[]</td>\n",
       "      <td>[ким, зинаида, видео, журналист, рубль, свидетель, суд, дело, процесс, заседание, экспертиза, выборы, документ, тысяча, фальсификация, список, вознаграждение, иван, федот, размер]</td>\n",
       "      <td>[ким, зинаида, видео, журналист, рубль, свидетель, суд, дело, процесс, заседание, экспертиза, выбор, документ, тысяча, фальсификация, список, вознаграждение, иван, федот, размер]</td>\n",
       "      <td>[владивосток, суд, ким, футиный, выбор, боевой, братство]</td>\n",
       "      <td>[видео, зинаида, ким, год, журналист, летие, другой, экспертиза, суд, который]</td>\n",
       "      <td>[видео, зинаида, год, журналист, летие, другой, экспертиза, суд]</td>\n",
       "    </tr>\n",
       "    <tr>\n",
       "      <th>4</th>\n",
       "      <td>В 2012 году российская столица резко увеличилась в размерах в результате присоединения части территории Московской области. Появление Новой Москвы предоставило мегаполису потенциал для роста, однако накладывало на власти новые обязательства, поскольку появившиеся в распоряжении земли были инфраструктурно менее развиты, чем площади, заключенные внутри МКАДа. Однако образовавшиеся в составе Москвы Троицкий и Новомосковский административные округа (ТиНАО) – одни из самых зеленых в регионе, и эту особенность планируется сохранить в процессе их освоения. Власти столицы планируют до 2035 года открыть в ТиНАО 90 парков.\\nОдин из главных принципов развития ТиНАО – формирование комфортной современной городской среды с жильем, рабочими местами, социальной и транспортной инфраструктурой, которые бы гармонично соседствовали с многочисленными парками. Им, как показали обследования экспертов, нужна забота, и весь лесной массив Новой Москвы площадью 75 тыс. га решено привеcти в порядок и сохранит...</td>\n",
       "      <td>[новая москва, подмосковье, благоустройство, тинао, городская среда, парки]</td>\n",
       "      <td>Лучшие проекты благоустройства общественных пространств ТиНАО выберут на конкурсе</td>\n",
       "      <td>Новая Москва останется территорией экологической безопасности</td>\n",
       "      <td>http://www.ng.ru/ng_stolitsa/2017-11-10/10_7112_newmoscow.html</td>\n",
       "      <td>[год, столица, размер, результат, присоединение, часть, территория, область, появление, москва, мегаполис, потенциал, рост, власть, новое, обязательство, распоряжение, земля, площадь, заключённый, мкада, состав, москва, троицкий, округа, тинао, регион, особенность, процесс, освоение, власть, столица, год, тинао, принцип, развитие, тинао, формирование, среда, жильё, инфраструктура, парка, обследование, эксперт, забота, лесна, массив, москва, площадь, тысяча, га, привеcть, порядок, разнообразие, москва, план, столица, граница, территория, территория, зона, полоса, леса, мусор, борьба, жук-короед, леса, регион, строительство, подъезд, расчистка, пруд, водоём, территория, экология, регион, схема, площадь, десяток, направленность, власть, москва, год, округа, портал, комплекс, политика, строительство, столица, ссылка, глава, департамент, развитие, территория, столица, владимир, жидкина, слово, территория, га, ...]</td>\n",
       "      <td>[новый, москва, остаться, территория, экологический, безопасность]</td>\n",
       "      <td>год столица размер результат присоединение часть территория область появление москва мегаполис потенциал рост власть новое обязательство распоряжение земля площадь заключённый мкада состав москва троицкий округа тинао регион особенность процесс освоение власть столица год тинао принцип развитие тинао формирование среда жильё инфраструктура парка обследование эксперт забота лесна массив москва площадь тысяча га привеcть порядок разнообразие москва план столица граница территория территория зона полоса леса мусор борьба жук-короед леса регион строительство подъезд расчистка пруд водоём территория экология регион схема площадь десяток направленность власть москва год округа портал комплекс политика строительство столица ссылка глава департамент развитие территория столица владимир жидкина слово территория га земля активность проект инвестор муниципалитет цифра город ресурс территория жидкина данные портал стройкомплекс мегаполис группа вопрос развитие тинао состав специалист департаме...</td>\n",
       "      <td>[парк, га, площадь, территория, москва, столица, развитие, троицкий, департамент, поселение, благоустройство, регион, мегаполис, леса, портал, зона, посёлок, спорт, округа, конкурс]</td>\n",
       "      <td>год российский столица увеличиться размер результат присоединение часть территория московский область появление новый москва предоставить мегаполис потенциал рост накладывать власть новое обязательство появиться распоряжение земля развитый площадь заключённый мкада образоваться состав москва троицкий новомосковский административный округа тинао один самый зелёный регион особенность планироваться сохранить процесс освоение власть столица планировать год открыть тинао парковый главный принцип развитие тинао формирование комфортный современный городской среда жильё рабочий социальный транспортный инфраструктура который соседствовать многочисленный парка показать обследование эксперт нужный забота весь лесна массив новый москва площадь тысяча га решить привеcть порядок сохранить ландшафтный биологический разнообразие новый москва пострадать генеральный план столица учесть граница охранять природный территория охранять зелёный территория установить водоохранный зона прибрежный защитный ...</td>\n",
       "      <td>[парк, га, площадь, территория, москва, столица, развитие, троицкий, департамент, поселение, благоустройство, регион, мегаполис, леса, портал, зона, посёлок, спорт, округа, конкурс]</td>\n",
       "      <td>[]</td>\n",
       "      <td>[площадь, территория, москва, развитие, парк, парка, тинао, столица, регион, департамент, власть, зона, тысяча, победа, округа, вид, спорт, результат, мегаполис, новое]</td>\n",
       "      <td>[площадь, территория, москва, развитие, парк, парк, тинао, столица, регион, департамент, власть, зона, тысяча, победа, округа, вид, спорт, результат, мегаполис, новое]</td>\n",
       "      <td>[новый, москва, подмосковье, благоустройство, тинао, городской, среда, парка]</td>\n",
       "      <td>[который, площадь, территория, га, парка, парк, столица, москва, парковый, развитие]</td>\n",
       "      <td>[площадь, территория, га, парк, парк, столица, москва, парковый, развитие]</td>\n",
       "    </tr>\n",
       "  </tbody>\n",
       "</table>\n",
       "</div>"
      ],
      "text/plain": [
       "                                                                                                                                                                                                                                                                                                                                                                                                                                                                                                                                                                                                                                                                                                                                                                                                                                                                                                                                                                                                                                   content  \\\n",
       "0  Многие интересуются, зачем нужна «Яблоку» молодежная фракция? Основной задачей «Молодежного «Яблока» является привлечение молодых людей к участию в выборах и деятельности партии. «Молодежное «Яблоко» работает более чем в 10 регионах. Единого руководства у нас нет, но мы стараемся координировать свою деятельность и периодически проводим акции на федеральном уровне.\\nМы ведем борьбу с обязательным воинским призывом. Военный – это профессия, а не обязанность. Молодые люди вправе сами распоряжаться своей жизнью и не терять целый год, отдавая государству «долг», который они у него не занимали. По мнению одного из ведущих специалистов в области оборонной политики Алексея Арбатова, переход на контрактную армию будет стоить лишь 2% военного бюджета.\\nТакже на федеральном уровне «Молодежное «Яблоко» проводило акции за освобождение политзаключенных и против вмешательства России во внутреннюю политику Украины.\\nРасскажу о московских активистах. Виктору Петрунину – 19 лет, он пришел к нам боль...   \n",
       "1  Вчера «Газпром» снизил верхнюю планку прогноза собственной добычи газа в 2020 году. Через 12 лет концерн собирается добывать около 620–640 млрд. куб. м в год. При этом общее производство газа в стране, по расчетам холдинга, должно достичь 940 млрд. куб. м. Иными словами, треть добываемого объема, по мнению холдинга, должны будут обеспечить независимые производители. Эксперты не верят, что независимые компании смогут выйти на такие объемы добычи. Если расчеты «Газпрома» не оправдаются, то под ударом окажутся отечественные предприятия и население, которым придется сокращать потребление и смириться с новым витком цен. Иных путей покрытия возможного дефицита газа нет, так как вряд ли холдинг разорвет уже заключенные контракты на экспорт газа в другие страны. \\n«Газпром» к 2020 году планирует добывать 620–640 млрд. куб. м газа, сообщил вчера на форуме «ТЭК России в ХХI веке» глава управления по добыче газа, газового конденсата и нефти холдинга Валерий Минликаев. Тем самым он уточнил пре...   \n",
       "2  Долголетний труд Евгения Витковского на ниве перевода, а также в качестве редактора и антологиста известен многим. Но не все знают его как поэта и прозаика. В этом году уже вышла составленная им и Еленой Кистеровой антология  «Раздол туманов: Страницы шотландской гэльской поэзии XVII–XX вв.», а в апреле запланирован выход его романа «Протей, или Византийский кризис» (отрывок из романа читайте на с. 12). С \\n побеседовал \\n– Одна из таких книг только что вышла – «Раздол туманов. Страницы шотландской гэльской поэзии XVII–XX веков». Это стихи 29 поэтов, все в переводе с оригинала – моем и Елены Кистеровой. Работа заняла 10 лет, включая изучение языка. Она была упоительно интересной: до нас переводов из этой поэзии на русский не было вовсе. Сейчас должен выйти том стихотворений канадского классика Роберта Уильяма Сервиса, «канадского Киплинга», около 300 стихотворений. Кроме того, в Петербурге в производстве наш огромный трехтомный плод совместной работы – антология «Франция в сердце»....   \n",
       "3  В Ленинском районном суде продолжаются слушания по делу экс-депутата Думы Владивостока Зинаиды Ким и бывшего председателя избирательного участка № 522 Елены Футиной, которых обвиняют в сговоре и фальсификациях результатов на выборах на сентябрьских выборах 2016 года. Напомним, 18 сентября 2017 года местные журналисты сняли на видео, как Ким, будучи кандидатом по спискам в Законодательное Собрание Приморского края, выдавала молодым людям открепительные, возила их голосовать на участок, где уже знали о предстоящем визите. В качестве вознаграждения избирателям предлагалось по 500 рублей.\\nПеред началом судебного процесса Зинаида Ким разговаривала с журналистами на повышенных тонах и обзывая, доказывала, что видео – монтаж. Адвокаты представили вниманию участников процесса характеристику подсудимой, составленную руководителями Всероссийской общественной организации «Боевое братство (Приморье)», членом которого является подсудимая. Выяснилось, что у Зинаиды Ким – богатый наградной списо...   \n",
       "4  В 2012 году российская столица резко увеличилась в размерах в результате присоединения части территории Московской области. Появление Новой Москвы предоставило мегаполису потенциал для роста, однако накладывало на власти новые обязательства, поскольку появившиеся в распоряжении земли были инфраструктурно менее развиты, чем площади, заключенные внутри МКАДа. Однако образовавшиеся в составе Москвы Троицкий и Новомосковский административные округа (ТиНАО) – одни из самых зеленых в регионе, и эту особенность планируется сохранить в процессе их освоения. Власти столицы планируют до 2035 года открыть в ТиНАО 90 парков.\\nОдин из главных принципов развития ТиНАО – формирование комфортной современной городской среды с жильем, рабочими местами, социальной и транспортной инфраструктурой, которые бы гармонично соседствовали с многочисленными парками. Им, как показали обследования экспертов, нужна забота, и весь лесной массив Новой Москвы площадью 75 тыс. га решено привеcти в порядок и сохранит...   \n",
       "\n",
       "                                                                                                                                                                                                                                                        keywords  \\\n",
       "0                                                                                                                                                                                                                          [яблоко, молодежь, молодежное яблоко]   \n",
       "1                                                                                                                                                                                                                                                 [газпром, газ]   \n",
       "2  [франсуа рабле, сервантес, шекспир, конан дойл, михаил булгаков, александр грин, борхес, босх, маркес, герман гессе, голландская живопись, гаргантюа и пантагрюэль, дон кихот, мастер и маргарита, москва, россия, история, поэзия, шотландия, баллада, пере]   \n",
       "3                                                                                                                                                                                                       [владивосток, суд, ким, футина, выборы, боевое братство]   \n",
       "4                                                                                                                                                                                    [новая москва, подмосковье, благоустройство, тинао, городская среда, парки]   \n",
       "\n",
       "                                                                                                                                    summary  \\\n",
       "0                                                                                                                                             \n",
       "1                                                                                                                                             \n",
       "2  Евгений Витковский о том, как Босх протягивает руку Шекспиру, \\r\\nи оба танцуют в пламени пожара в охваченном чумой средневековом городе   \n",
       "3                                            Фигурантке уголовного дела о фальсификации выборов в Приморье грозит до четырех лет заключения   \n",
       "4                                                         Лучшие проекты благоустройства общественных пространств ТиНАО выберут на конкурсе   \n",
       "\n",
       "                                                                                   title  \\\n",
       "0                    \"Молодежное \"Яблоко\": оппозиционная деятельность становится опасной   \n",
       "1                                                           \"Газпрома\" на всех не хватит   \n",
       "2                                            Бесконечная партия в четырехмерные  шахматы   \n",
       "3  Экс-депутат, осужденная за фальсификацию выборов, оказалась членом \"Боевого братства\"   \n",
       "4                          Новая Москва останется территорией экологической безопасности   \n",
       "\n",
       "                                                              url  \\\n",
       "0      http://www.ng.ru/ng_politics/2017-04-18/11_6976_apple.html   \n",
       "1            http://www.ng.ru/economics/2008-04-03/1_gazprom.html   \n",
       "2        http://www.ng.ru/person/2018-03-22/10_927_vitkovsky.html   \n",
       "3  http://www.ng.ru/regions/2018-01-10/100_vladivostok100118.html   \n",
       "4  http://www.ng.ru/ng_stolitsa/2017-11-10/10_7112_newmoscow.html   \n",
       "\n",
       "                                                                                                                                                                                                                                                                                                                                                                                                                                                                                                                                                                                                                                                                                                                                                                                                                                                                                                                                                                           content_norm  \\\n",
       "0                             [яблоко, фракция, задача, яблоко, привлечение, молодая, человек, участие, выборы, деятельность, партия, яблоко, регион, руководство, деятельность, акция, уровень, борьба, призыв, военный, профессия, обязанность, молодая, человек, жизнь, год, государство, долг, мнение, специалист, область, политика, алексей, арбатов, переход, армия, военный, бюджет, уровень, яблоко, акция, освобождение, политзаключённый, вмешательство, россия, политика, украина, активист, виктор, петрунин, год, год, москва, семья, взгляд, виктор, детство, политика, виктор, власть, крым, война, украина, убийство, борис, немцов, сторона, школа, сила, смена, власть, россия, дарья, новичкова, влияние, преподаватель, обществознание, ситуация, страна, искренность, заинтересованность, вопрос, дарья, материал, сми, время, наблюдение, позиция, образ, команда, единомышленник, пример, ровесник, дарья, яблоко, яблоко, клуб, рамка, лекция, кинопоказ, ...]   \n",
       "1                                                                                                [газпром, планка, прогноз, добыча, газа, год, год, концерн, миллиард, куб, год, производство, газа, страна, расчёт, холдинг, миллиард, куб, слово, треть, объём, мнение, холдинг, производитель, эксперт, компания, объём, добыча, расчёт, газпром, удар, предприятие, население, потребление, виток, цена, путь, покрытие, дефицит, газа, холдинг, заключённый, контракт, экспорт, газа, страна, газпром, год, миллиард, куб, газа, форум, тэк, россия, век, глава, управление, добыча, газа, конденсат, нефть, холдинг, валерий, минликай, прогноз, добыча, газа, прошлое, год, зампред, правление, концерн, александр, ананенков, слово, ананенков, газпром, год, миллиард, куб, год, прогноз, газпром, стратегия, правительство, добыча, газа, холдинг, представление, минпромэнерго, минэкономразвития, добыча, газа, россия, год, уровень, миллиард, куб, слово, минликаев, ...]   \n",
       "2                                                                                [труд, евгений, витковский, нива, перевод, качество, редактор, антологист, поэт, прозаик, год, елена, кистеров, антология, раздол, туманов, страница, поэзия, век, апрель, выход, роман, протей, кризис, отрывок, роман, книга, раздол, туманов, страница, поэзия, век, стих, поэт, перевод, оригинал, елена, кистеров, работа, год, изучение, язык, перевод, поэзия, стихотворение, классика, роберт, уильям, сервис, киплинга, стихотворение, петербург, производство, плод, работа, антология, франция, сердце, стихотворение, век, участник, семинар, перевод, работа, год, деньга, культура, борьба, коррупция, план, перевод, велик, комплекс, книга, сборник, классика, дидерик, йоханнес, оппермана, редактор, год, 1990-е, возможность, читатель, год, главное, редактор, издательство, год, престиж, бук, читатель, серия, рамка, книга, приключение, фантастика, детгиз, книга, серия, ...]   \n",
       "3  [суд, слушание, дело, экс-депутат, дума, владивосток, зинаида, председатель, участок, елена, сговор, фальсификация, результат, выборы, выборы, год, сентябрь, год, журналист, видео, кандидат, список, собрание, край, молодая, человек, участок, визит, качество, вознаграждение, избиратель, рубль, начало, процесс, зинаида, журналист, тон, видео, монтаж, адвокат, внимание, участник, процесс, характеристика, подсудимая, руководитель, организация, братство, приморье, член, подсудимая, зинаида, список, знак, 70-летие, победа, война, 25-летие, вывод, войско, афганистан, 20-летие, мчс, ход, заседание, адвокат, алексей, клецкина, судья, экспертиза, видео, аудиозапись, процесс, качество, доказательство, вина, защитник, сомнение, подлинность, экспертиза, обвинитель, прошение, защитник, судья, позиция, представитель, прокуратура, заседание, дело, зинаида, елена, свидетель, редактор, издание, иван, федот, журналист, маргарита, бабченко, зинаида, ...]   \n",
       "4                            [год, столица, размер, результат, присоединение, часть, территория, область, появление, москва, мегаполис, потенциал, рост, власть, новое, обязательство, распоряжение, земля, площадь, заключённый, мкада, состав, москва, троицкий, округа, тинао, регион, особенность, процесс, освоение, власть, столица, год, тинао, принцип, развитие, тинао, формирование, среда, жильё, инфраструктура, парка, обследование, эксперт, забота, лесна, массив, москва, площадь, тысяча, га, привеcть, порядок, разнообразие, москва, план, столица, граница, территория, территория, зона, полоса, леса, мусор, борьба, жук-короед, леса, регион, строительство, подъезд, расчистка, пруд, водоём, территория, экология, регион, схема, площадь, десяток, направленность, власть, москва, год, округа, портал, комплекс, политика, строительство, столица, ссылка, глава, департамент, развитие, территория, столица, владимир, жидкина, слово, территория, га, ...]   \n",
       "\n",
       "                                                                        title_norm  \\\n",
       "0          [молодёжный, яблоко, оппозиционный, деятельность, становиться, опасный]   \n",
       "1                                                               [газпром, хватить]   \n",
       "2                                    [бесконечный, партия, четырехмерный, шахматы]   \n",
       "3  [экс-депутат, осудить, фальсификация, выбор, оказаться, член, боевой, братство]   \n",
       "4               [новый, москва, остаться, территория, экологический, безопасность]   \n",
       "\n",
       "                                                                                                                                                                                                                                                                                                                                                                                                                                                                                                                                                                                                                                                                                                                                                                                                                                                                                                                                                                                                                          content_norm_str  \\\n",
       "0  яблоко фракция задача яблоко привлечение молодая человек участие выборы деятельность партия яблоко регион руководство деятельность акция уровень борьба призыв военный профессия обязанность молодая человек жизнь год государство долг мнение специалист область политика алексей арбатов переход армия военный бюджет уровень яблоко акция освобождение политзаключённый вмешательство россия политика украина активист виктор петрунин год год москва семья взгляд виктор детство политика виктор власть крым война украина убийство борис немцов сторона школа сила смена власть россия дарья новичкова влияние преподаватель обществознание ситуация страна искренность заинтересованность вопрос дарья материал сми время наблюдение позиция образ команда единомышленник пример ровесник дарья яблоко яблоко клуб рамка лекция кинопоказ тема наступление консерватизм обсуждение альтернатива ситуация экономика участник стол мероприятие место дискуссия участие люба гость яблоко повестка ноябрь прошлое год карелия акц...   \n",
       "1  газпром планка прогноз добыча газа год год концерн миллиард куб год производство газа страна расчёт холдинг миллиард куб слово треть объём мнение холдинг производитель эксперт компания объём добыча расчёт газпром удар предприятие население потребление виток цена путь покрытие дефицит газа холдинг заключённый контракт экспорт газа страна газпром год миллиард куб газа форум тэк россия век глава управление добыча газа конденсат нефть холдинг валерий минликай прогноз добыча газа прошлое год зампред правление концерн александр ананенков слово ананенков газпром год миллиард куб год прогноз газпром стратегия правительство добыча газа холдинг представление минпромэнерго минэкономразвития добыча газа россия год уровень миллиард куб слово минликаев год добыча газа россия миллиард куб расчёт газпром миллиард куб половина треть год добыча производитель счёт газпром рука месторождение страна мнение эксперт заявление представитель газпром сторона отход прогноз план итог год концерн миллиард куб ...   \n",
       "2  труд евгений витковский нива перевод качество редактор антологист поэт прозаик год елена кистеров антология раздол туманов страница поэзия век апрель выход роман протей кризис отрывок роман книга раздол туманов страница поэзия век стих поэт перевод оригинал елена кистеров работа год изучение язык перевод поэзия стихотворение классика роберт уильям сервис киплинга стихотворение петербург производство плод работа антология франция сердце стихотворение век участник семинар перевод работа год деньга культура борьба коррупция план перевод велик комплекс книга сборник классика дидерик йоханнес оппермана редактор год 1990-е возможность читатель год главное редактор издательство год престиж бук читатель серия рамка книга приключение фантастика детгиз книга серия дорога тираж качество десятка сотня иллюстрация офсет переплёт книга ассортимент трёхтомник новелла александр грин произведение трилогия мариэтта шагинян месса-мёнда вид текст год роман текст газета серия собрание произведение кона...   \n",
       "3  суд слушание дело экс-депутат дума владивосток зинаида председатель участок елена сговор фальсификация результат выборы выборы год сентябрь год журналист видео кандидат список собрание край молодая человек участок визит качество вознаграждение избиратель рубль начало процесс зинаида журналист тон видео монтаж адвокат внимание участник процесс характеристика подсудимая руководитель организация братство приморье член подсудимая зинаида список знак 70-летие победа война 25-летие вывод войско афганистан 20-летие мчс ход заседание адвокат алексей клецкина судья экспертиза видео аудиозапись процесс качество доказательство вина защитник сомнение подлинность экспертиза обвинитель прошение защитник судья позиция представитель прокуратура заседание дело зинаида елена свидетель редактор издание иван федот журналист маргарита бабченко зинаида суд журналист действие дело вознаграждение рубль иван федот ситуация разговор коллега сотрудник редакция зинаида заседание свидетель видеограф агентство ...   \n",
       "4  год столица размер результат присоединение часть территория область появление москва мегаполис потенциал рост власть новое обязательство распоряжение земля площадь заключённый мкада состав москва троицкий округа тинао регион особенность процесс освоение власть столица год тинао принцип развитие тинао формирование среда жильё инфраструктура парка обследование эксперт забота лесна массив москва площадь тысяча га привеcть порядок разнообразие москва план столица граница территория территория зона полоса леса мусор борьба жук-короед леса регион строительство подъезд расчистка пруд водоём территория экология регион схема площадь десяток направленность власть москва год округа портал комплекс политика строительство столица ссылка глава департамент развитие территория столица владимир жидкина слово территория га земля активность проект инвестор муниципалитет цифра город ресурс территория жидкина данные портал стройкомплекс мегаполис группа вопрос развитие тинао состав специалист департаме...   \n",
       "\n",
       "                                                                                                                                                                                      keywords_te_new  \\\n",
       "0  [яблоко, активист, акция, дарья, деятельность, молодая, политика, виктор, выборы, силовик, репрессия, тимур, молодёжный яблоко, год, насилие, убийство, освобождение, отделение, власть, молодёжь]   \n",
       "1               [куб, газпром, газа, миллиард, добыча, метр, холдинг, производитель, прогноз, год, потребление, расчёт, кубометр, аналитик, концерн, объём, месторождение, цена, монополист, экспорт]   \n",
       "2                 [роман, книга, жанр, стихотворение, перевод, читатель, год, поэзия, произведение, туманов, реквием, герой, редактор, мир, рецензия, серия, страница, наследник, антология, престол]   \n",
       "3          [ким, зинаида, видео, экспертиза, свидетель, федот, монтаж, журналист, вознаграждение, приморье, фальсификация, заседание, суд, владивосток, рубль, судья, защитник, адвокат, елена, иван]   \n",
       "4               [парк, га, площадь, территория, москва, столица, развитие, троицкий, департамент, поселение, благоустройство, регион, мегаполис, леса, портал, зона, посёлок, спорт, округа, конкурс]   \n",
       "\n",
       "                                                                                                                                                                                                                                                                                                                                                                                                                                                                                                                                                                                                                                                                                                                                                                                                                                                                                                                                                                                                                                content_nt  \\\n",
       "0  интересоваться нужный яблоко молодёжный фракция основной задача молодёжный яблоко являться привлечение молодая человек участие выборы деятельность партия молодёжный яблоко работать регион единый руководство стараться координировать деятельность проводить акция федеральный уровень вести борьба обязательный воинский призыв военный профессия обязанность молодая человек сам распоряжаться свой жизнь терять целый год государство долг который занимать мнение один ведущий специалист область оборонный политика алексей арбатов переход контрактный армия стоить военный бюджет федеральный уровень молодёжный яблоко проводить акция освобождение политзаключённый вмешательство россия внутренний политика украина рассказать московский активист виктор петрунин год прийти год переехать москва весь семья придерживаться демократический взгляд виктор ранний детство интересовать политика виктор относиться власть крым война украина убийство борис немцов понять оставаться сторона школа решить должный присоед...   \n",
       "1  газпром снизить верхний планка прогноз собственный добыча газа год год концерн собираться добывать миллиард куб метр год общий производство газа страна расчёт холдинг должный достигнуть миллиард куб метр иной слово треть добывать объём мнение холдинг должный быть обеспечить независимый производитель эксперт верить независимый компания смочь выйти такой объём добыча расчёт газпром оправдаться удар оказаться отечественный предприятие население который прийтись сокращать потребление смириться новый виток цена иной путь покрытие возможный дефицит газа холдинг разорвать заключённый контракт экспорт газа другой страна газпром год планировать добывать миллиард куб метр газа сообщить форум тэк россия век глава управление добыча газа газовый конденсат нефть холдинг валерий минликай самый уточнить предыдущий прогноз добыча газа который озвучить прошлое год зампред правление концерн александр ананенков слово ананенков газпром должный добывать год миллиард куб метр год предыдущий нынешний прог...   \n",
       "2  долголетний труд евгений витковский нива перевод качество редактор антологист известный многий знать поэт прозаик год выйти составить елена кистеров антология раздол туманов страница шотландский гэльский поэзия век апрель запланировать выход роман протей византийский кризис отрывок роман читать побеседовать один такой книга выйти раздол туманов страница шотландский гэльский поэзия век стих поэт перевод оригинал мыть елена кистеров работа занять год изучение язык интересный перевод поэзия русский должный выйти стихотворение канадский классика роберт уильям сервис канадский киплинга стихотворение петербург производство наш огромный трехтомный плод совместный работа антология франция сердце стихотворение век который перевести участник семинар перевод работа занять год торопиться платить деньга культура идти борьба коррупция понять касаться мой личный план перевод велик сделать комплекс испытывать один книга сборник южноафриканский классика дидерик йоханнес оппермана сделать хотеть раб...   \n",
       "3  ленинский районный суд продолжаться слушание дело экс-депутат дума владивосток зинаида ким бывший председатель избирательный участок елена футиный который обвинять сговор фальсификация результат выборы сентябрьский выборы год напомнить сентябрь год местный журналист снять видео ким кандидат список законодательный собрание приморский край выдавать молодая человек открепительный возить голосовать участок знать предстоящий визит качество вознаграждение избиратель предлагаться рубль начало судебный процесс зинаида ким разговаривать журналист повышенный тон доказывать видео монтаж адвокат представить внимание участник процесс характеристика подсудимая составить руководитель всероссийский общественный организация боевой братство приморье член который являться подсудимая выясниться зинаида ким богатый наградной список памятный знак 70-летие победа великий отечественный война 25-летие вывод советский войско афганистан 20-летие мчс другой ход заседание адвокат алексей клецкина попросить суд...   \n",
       "4  год российский столица увеличиться размер результат присоединение часть территория московский область появление новый москва предоставить мегаполис потенциал рост накладывать власть новое обязательство появиться распоряжение земля развитый площадь заключённый мкада образоваться состав москва троицкий новомосковский административный округа тинао один самый зелёный регион особенность планироваться сохранить процесс освоение власть столица планировать год открыть тинао парковый главный принцип развитие тинао формирование комфортный современный городской среда жильё рабочий социальный транспортный инфраструктура который соседствовать многочисленный парка показать обследование эксперт нужный забота весь лесна массив новый москва площадь тысяча га решить привеcть порядок сохранить ландшафтный биологический разнообразие новый москва пострадать генеральный план столица учесть граница охранять природный территория охранять зелёный территория установить водоохранный зона прибрежный защитный ...   \n",
       "\n",
       "                                                                                                                                                                                         keywords_nt  \\\n",
       "0  [яблоко, активист, акция, дарья, деятельность, молодая, политика, виктор, выбор, силовик, репрессия, тимур, молодёжный яблоко, год, насилие, убийство, освобождение, отделение, власть, молодёжь]   \n",
       "1              [куб, газпром, газа, миллиард, добыча, метр, холдинг, производитель, прогноз, год, потребление, расчёт, кубометр, аналитик, концерн, объём, месторождение, цена, монополист, экспорт]   \n",
       "2                [роман, книга, жанр, стихотворение, перевод, читатель, год, поэзия, произведение, туманов, реквием, герой, редактор, мир, рецензия, серия, страница, наследник, антология, престол]   \n",
       "3         [ким, зинаида, видео, экспертиза, свидетель, федот, монтаж, журналист, вознаграждение, приморье, фальсификация, заседание, суд, владивосток, рубль, судья, защитник, адвокат, елена, иван]   \n",
       "4              [парк, га, площадь, территория, москва, столица, развитие, троицкий, департамент, поселение, благоустройство, регион, мегаполис, леса, портал, зона, посёлок, спорт, округа, конкурс]   \n",
       "\n",
       "  keywords_rake  \\\n",
       "0            []   \n",
       "1            []   \n",
       "2        [метр]   \n",
       "3            []   \n",
       "4            []   \n",
       "\n",
       "                                                                                                                                                                         keywords_yake  \\\n",
       "0     [яблоко, акция, активист, деятельность, политика, власть, молодая, задача, дарья, выборы, уровень, россия, виктор, освобождение, март, участие, партия, регион, борьба, военный]   \n",
       "1    [метр, миллиард, куб, газа, газпром, добыча, производитель, страна, прогноз, холдинг, расчёт, потребление, население, цена, россия, объём, концерн, слово, кубометр, предприятие]   \n",
       "2               [книга, роман, мир, жанр, читатель, стихотворение, перевод, поэзия, россия, москва, мениппея, работа, произведение, герой, страница, век, стих, редактор, поэт, серия]   \n",
       "3  [ким, зинаида, видео, журналист, рубль, свидетель, суд, дело, процесс, заседание, экспертиза, выборы, документ, тысяча, фальсификация, список, вознаграждение, иван, федот, размер]   \n",
       "4             [площадь, территория, москва, развитие, парк, парка, тинао, столица, регион, департамент, власть, зона, тысяча, победа, округа, вид, спорт, результат, мегаполис, новое]   \n",
       "\n",
       "                                                                                                                                                                    keywords_yake_pos  \\\n",
       "0     [яблоко, акция, активист, деятельность, политика, власть, молодая, задача, дарья, выбор, уровень, россия, виктор, освобождение, март, участие, партия, регион, борьба, военный]   \n",
       "1   [метр, миллиард, куб, газа, газпром, добыча, производитель, страна, прогноз, холдинг, расчёт, потребление, население, цена, россия, объём, концерн, слово, кубометр, предприятие]   \n",
       "2               [книга, роман, мир, жанр, читатель, стихотворение, перевод, поэзия, россия, москва, мениппея, работа, произведение, герой, страница, стихнуть, редактор, поэт, серия]   \n",
       "3  [ким, зинаида, видео, журналист, рубль, свидетель, суд, дело, процесс, заседание, экспертиза, выбор, документ, тысяча, фальсификация, список, вознаграждение, иван, федот, размер]   \n",
       "4             [площадь, территория, москва, развитие, парк, парк, тинао, столица, регион, департамент, власть, зона, тысяча, победа, округа, вид, спорт, результат, мегаполис, новое]   \n",
       "\n",
       "                                                                                                                                                                                                                                                         keywords_norm  \\\n",
       "0                                                                                                                                                                                                                               [яблоко, молодёжь, молодёжный, яблоко]   \n",
       "1                                                                                                                                                                                                                                                       [газпром, газ]   \n",
       "2  [франсуа, рабле, сервантес, шекспир, конана, дойло, михаил, булгаков, александр, грин, борхес, босха, маркес, герман, гесс, голландский, живопись, гаргантю, пантагрюэль, дон, кихот, мастер, маргарита, москва, россия, история, поэзия, шотландия, баллада, перо]   \n",
       "3                                                                                                                                                                                                            [владивосток, суд, ким, футиный, выбор, боевой, братство]   \n",
       "4                                                                                                                                                                                        [новый, москва, подмосковье, благоустройство, тинао, городской, среда, парка]   \n",
       "\n",
       "                                                                                keywords_tr  \\\n",
       "0  [который, год, яблоко, молодёжный, акция, активист, политика, деятельность, наш, власть]   \n",
       "1        [газпром, добыча, газа, год, миллиард, который, метр, должный, страна, внутренний]   \n",
       "2                [книга, год, выйти, роман, тот, писать, один, мир, перевод, стихотворение]   \n",
       "3            [видео, зинаида, ким, год, журналист, летие, другой, экспертиза, суд, который]   \n",
       "4      [который, площадь, территория, га, парка, парк, столица, москва, парковый, развитие]   \n",
       "\n",
       "                                                              keywords_tr_pos  \n",
       "0  [год, яблоко, молодёжный, акция, активист, политика, деятельность, власть]  \n",
       "1   [газпром, добыча, газа, год, миллиард, метр, должный, страна, внутренний]  \n",
       "2             [книга, год, выйти, роман, писать, мир, перевод, стихотворение]  \n",
       "3            [видео, зинаида, год, журналист, летие, другой, экспертиза, суд]  \n",
       "4  [площадь, территория, га, парк, парк, столица, москва, парковый, развитие]  "
      ]
     },
     "execution_count": 503,
     "metadata": {},
     "output_type": "execute_result"
    }
   ],
   "source": [
    "data.head()"
   ]
  },
  {
   "cell_type": "code",
   "execution_count": 504,
   "metadata": {},
   "outputs": [
    {
     "name": "stdout",
     "output_type": "stream",
     "text": [
      "Precision -  0.2\n",
      "Recall -  0.3\n",
      "F1 -  0.23\n",
      "Jaccard -  0.14\n"
     ]
    }
   ],
   "source": [
    "evaluate(data.keywords_norm, data.keywords_tr_pos)"
   ]
  },
  {
   "cell_type": "markdown",
   "metadata": {},
   "source": [
    "В качестве ответа нужно предоставить jupyter тетрадку с экспериментами (обязательное условие!) и описать каждую из идей в форме - https://goo.gl/forms/H9lBH9wCxqq1T0ru2"
   ]
  },
  {
   "cell_type": "markdown",
   "metadata": {},
   "source": [
    "Каждый реализованный и описанный способ оценивается в 3 балла. Дополнительный балл можно получить, если способы затрагивают разные аспекты решения (например, первая идея - улучшить нормализацию, вторая - улучшить способ представления текста в виде графа, третья - предложить способ удаления из топа идентичных ключевых слов (рф, россия))."
   ]
  },
  {
   "cell_type": "markdown",
   "metadata": {},
   "source": [
    "Можно использовать мой код как основу, а можно придумать что-то полностью другое."
   ]
  },
  {
   "cell_type": "markdown",
   "metadata": {},
   "source": [
    "Если у вас никак не получается побить бейзлайн вы можете предоставить реализацию и описание неудавшихся экспериментов (каждый оценивается в 1 балл)."
   ]
  }
 ],
 "metadata": {
  "kernelspec": {
   "display_name": "Python 3",
   "language": "python",
   "name": "python3"
  },
  "language_info": {
   "codemirror_mode": {
    "name": "ipython",
    "version": 3
   },
   "file_extension": ".py",
   "mimetype": "text/x-python",
   "name": "python",
   "nbconvert_exporter": "python",
   "pygments_lexer": "ipython3",
   "version": "3.6.5"
  }
 },
 "nbformat": 4,
 "nbformat_minor": 2
}
